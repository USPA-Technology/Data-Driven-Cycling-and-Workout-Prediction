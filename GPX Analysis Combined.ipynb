{
 "cells": [
  {
   "cell_type": "markdown",
   "metadata": {},
   "source": [
    "### Import Activities File"
   ]
  },
  {
   "cell_type": "code",
   "execution_count": null,
   "metadata": {},
   "outputs": [],
   "source": [
    "## Install python-benedict library\n",
    "# !pip install python-benedict\n",
    "\n",
    "## Install for Data Visualization\n",
    "#!pip install ipyleaflet\n",
    "#!jupyter nbextension enable --py --sys-prefix ipyleaflet \n",
    "#\n",
    "# or just use conda\n",
    "#!conda install -c conda-forge ipyleaflet"
   ]
  },
  {
   "cell_type": "code",
   "execution_count": null,
   "metadata": {},
   "outputs": [],
   "source": [
    "import pandas as pd\n",
    "from pathlib import Path\n",
    "from os import listdir\n",
    "from os.path import isfile, join\n",
    "import gzip\n",
    "import shutil\n",
    "from benedict import benedict as bdict\n",
    "from ipyleaflet import Map, Polyline\n",
    "\n",
    "\n",
    "filepath = \"data/\"\n",
    "fileOutputPath= filepath + \"output/\"\n",
    "\n",
    "activityPath = filepath + \"activities/\"\n",
    "activityOutputPath = fileOutputPath + \"activities/\"\n",
    "\n",
    "\n",
    "def loadData():\n",
    "    df = pd.read_csv(filepath+ 'activities.csv')\n",
    "    data = df[df.columns[[0,1,2,3,4,5,6,10,13,14,15,16,17,18,19,20,21,22,23,26,27,31,32,41,44,45,47,50]]]\n",
    "\n",
    "    rideTypes = ['Virtual Ride', 'Ride']\n",
    "    rideData = data[data['Activity Type'].isin(rideTypes)]    \n",
    "    return rideData.dropna(subset=['Filename']).reset_index()\n",
    "\n",
    "\n",
    "def extractAllGPXFiles():\n",
    "    # Create activity files Path if it's not exists\n",
    "    Path(activityOutputPath).mkdir(parents=True, exist_ok=True)\n",
    "    \n",
    "    # check for all files in activities folder\n",
    "    activityfiles = [f for f in listdir(filepath+\"activities\") if isfile(join(filepath+\"activities\", f))]\n",
    "\n",
    "    # Extract all files from gz zip files\n",
    "    for activity in activityfiles:\n",
    "        # Extract activity filename\n",
    "        filenamegz =activity\n",
    "        filename=filenamegz[:-3]\n",
    "       \n",
    "        # Extract GPX File\n",
    "        with gzip.open(activityPath + filenamegz, 'rb') as f_in:\n",
    "            with open(activityOutputPath + filename, 'wb') as f_out:\n",
    "                shutil.copyfileobj(f_in, f_out)\n",
    "    \n",
    "    print(\"done!\")\n",
    "    \n",
    "    \n",
    "def getLocations(gpx_output_path,gpx_filename):\n",
    "    # data-source can be an url, a filepath or data-string (as in this example)\n",
    "    data_source = gpx_output_path + gpx_filename\n",
    "    xmldata = bdict.from_xml(data_source)\n",
    "    trk_list = xmldata['gpx.trk.trkseg.trkpt']\n",
    "    \n",
    "    locs = [[float(t['@lat']),float(t['@lon'])] for t in trk_list]\n",
    "    \n",
    "    return locs\n",
    "\n",
    "\n",
    "def showOnMap(locations):\n",
    "\n",
    "    line = Polyline(\n",
    "        locations=locations,\n",
    "        color=\"green\" ,\n",
    "        fill=False\n",
    "    )\n",
    "\n",
    "    m = Map(center = (float((min(locations)[0]+max(locations)[0])/2), float(min(locations)[1]+max(locations)[1])/2), zoom =12)\n",
    "    m.add_layer(line)\n",
    "    return m\n",
    "\n",
    "data = loadData()\n",
    "extractAllGPXFiles()"
   ]
  },
  {
   "cell_type": "code",
   "execution_count": null,
   "metadata": {},
   "outputs": [],
   "source": [
    "len(data)"
   ]
  },
  {
   "cell_type": "code",
   "execution_count": null,
   "metadata": {},
   "outputs": [],
   "source": [
    "fileindex = 125\n",
    "showOnMap(getLocations(fileOutputPath,data['Filename'][fileindex][:-3]))"
   ]
  },
  {
   "cell_type": "markdown",
   "metadata": {},
   "source": [
    "### Print Values"
   ]
  },
  {
   "cell_type": "code",
   "execution_count": null,
   "metadata": {},
   "outputs": [],
   "source": [
    "data.columns"
   ]
  },
  {
   "cell_type": "code",
   "execution_count": null,
   "metadata": {},
   "outputs": [],
   "source": [
    "def getDistance(dist):\n",
    "    result = dist/1000\n",
    "    return \"{:.2f}\".format(result)    \n",
    "\n",
    "def getTimeInMinute(time):\n",
    "    result = time/60\n",
    "    return \"{:.1f}\".format(result)"
   ]
  },
  {
   "cell_type": "code",
   "execution_count": null,
   "metadata": {},
   "outputs": [],
   "source": [
    "for index, row in data[-5:].iterrows():\n",
    "    #print(fileOutputPath,row['Filename'][:-3])\n",
    "    print(\"Name:\", row['Activity Name'], end = \"\\t \")\n",
    "    #print(\"Activity Date:\", row['Activity Date'], end = \"\\t \")    \n",
    "    print(f\"Distance: { getDistance(row['Distance.1'])} km\", end=\"\\t \")\n",
    "    print(f\"Time: { getTimeInMinute(row['Elapsed Time'])} min\")\n",
    "\n",
    "    map = showOnMap(getLocations(fileOutputPath,row['Filename'][:-3]))\n",
    "\n",
    "# Print the latest map        \n",
    "map"
   ]
  },
  {
   "cell_type": "code",
   "execution_count": null,
   "metadata": {},
   "outputs": [],
   "source": []
  }
 ],
 "metadata": {
  "kernelspec": {
   "display_name": "Python 3",
   "language": "python",
   "name": "python3"
  },
  "language_info": {
   "codemirror_mode": {
    "name": "ipython",
    "version": 3
   },
   "file_extension": ".py",
   "mimetype": "text/x-python",
   "name": "python",
   "nbconvert_exporter": "python",
   "pygments_lexer": "ipython3",
   "version": "3.7.4"
  }
 },
 "nbformat": 4,
 "nbformat_minor": 2
}
