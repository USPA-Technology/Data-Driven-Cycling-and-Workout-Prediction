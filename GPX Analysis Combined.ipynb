{
 "cells": [
  {
   "cell_type": "markdown",
   "metadata": {},
   "source": [
    "### Import Activities File"
   ]
  },
  {
   "cell_type": "code",
   "execution_count": null,
   "metadata": {},
   "outputs": [],
   "source": [
    "## Install python-benedict library\n",
    "#!pip install python-benedict\n",
    "\n",
    "## Install for Data Visualization\n",
    "#!pip install ipyleaflet\n",
    "#!jupyter nbextension enable --py --sys-prefix ipyleaflet \n",
    "#\n",
    "# or just use conda\n",
    "#!conda install -c conda-forge ipyleaflet"
   ]
  },
  {
   "cell_type": "code",
   "execution_count": null,
   "metadata": {},
   "outputs": [],
   "source": [
    "import seaborn as sns\n",
    "sns.set()"
   ]
  },
  {
   "cell_type": "code",
   "execution_count": null,
   "metadata": {},
   "outputs": [],
   "source": [
    "import pandas as pd\n",
    "from pathlib import Path\n",
    "from os import listdir\n",
    "from os.path import isfile, join\n",
    "import gzip\n",
    "import shutil\n",
    "from benedict import benedict as bdict\n",
    "from ipyleaflet import Map, Polyline\n",
    "\n",
    "\n",
    "filepath = \"data/\"\n",
    "fileOutputPath= filepath + \"output/\"\n",
    "\n",
    "activityPath = filepath + \"activities/\"\n",
    "activityOutputPath = fileOutputPath + \"activities/\"\n",
    "\n",
    "\n",
    "def loadData():\n",
    "    df = pd.read_csv(filepath+ 'activities.csv')\n",
    "    data = df[df.columns[[0,1,2,3,4,5,6,10,13,14,15,16,17,18,19,20,21,22,23,26,27,31,32,41,44,45,47,50]]]\n",
    "\n",
    "    rideTypes = ['Virtual Ride', 'Ride']\n",
    "    rideData = data[data['Activity Type'].isin(rideTypes)]    \n",
    "    #return rideData.dropna(subset=['Filename']).reset_index()\n",
    "    return rideData\n",
    "\n",
    "def getFilename(fileextension):\n",
    "    return fileextension[:-3]\n",
    "\n",
    "def extractAllGPXFiles():\n",
    "    # Create activity files Path if it's not exists\n",
    "    Path(activityOutputPath).mkdir(parents=True, exist_ok=True)\n",
    "    \n",
    "    # check for all files in activities folder\n",
    "    activityfiles = [f for f in listdir(filepath+\"activities\") if isfile(join(filepath+\"activities\", f))]\n",
    "\n",
    "    # Extract all files from gz zip files\n",
    "    for activityzip in activityfiles:\n",
    "        # Extract activity filename\n",
    "        filename=getFilename(activityzip)\n",
    "       \n",
    "        # Extract GPX File\n",
    "        with gzip.open(activityPath + activityzip, 'rb') as f_in:\n",
    "            with open(activityOutputPath + filename, 'wb') as f_out:\n",
    "                shutil.copyfileobj(f_in, f_out)\n",
    "    \n",
    "    print(\"done!\")\n",
    "    \n",
    "    \n",
    "def getLocations(gpx_output_path,gpx_filename):\n",
    "    try:\n",
    "        data_source = gpx_output_path + gpx_filename\n",
    "        xmldata = bdict.from_xml(data_source)\n",
    "        trk_list = xmldata['gpx.trk.trkseg.trkpt']\n",
    "\n",
    "        locs = [[float(t['@lat']),float(t['@lon'])] for t in trk_list]\n",
    "    \n",
    "        return locs\n",
    "    except:\n",
    "        return null\n",
    "    \n",
    "\n",
    "def getVirtualLocations(gpx_output_path,gpx_filename):\n",
    "    try:\n",
    "        data_source = gpx_output_path + gpx_filename\n",
    "        xmldata = bdict.from_xml(data_source)\n",
    "        trk_list = xmldata['gpx.trk.trkseg.trkpt']\n",
    "\n",
    "        locs = [[float(t['@lat']),float(t['@lon']),float(t['ele']),t['extensions']['power'],t['time']] for t in trk_list]\n",
    "    \n",
    "        return locs\n",
    "    except:\n",
    "        return null\n",
    "\n",
    "\n",
    "def showOnMap(locations):\n",
    "\n",
    "    line = Polyline(\n",
    "        locations=locations,\n",
    "        color=\"green\" ,\n",
    "        fill=False\n",
    "    )\n",
    "\n",
    "    m = Map(center = (float((min(locations)[0]+max(locations)[0])/2), float(min(locations)[1]+max(locations)[1])/2), zoom =12)\n",
    "    m.add_layer(line)\n",
    "    return m"
   ]
  },
  {
   "cell_type": "code",
   "execution_count": null,
   "metadata": {},
   "outputs": [],
   "source": [
    "data = loadData()\n",
    "\n",
    "# Extract All gpx.gz files\n",
    "#extractAllGPXFiles()"
   ]
  },
  {
   "cell_type": "code",
   "execution_count": null,
   "metadata": {},
   "outputs": [],
   "source": [
    "len(data)"
   ]
  },
  {
   "cell_type": "code",
   "execution_count": null,
   "metadata": {},
   "outputs": [],
   "source": [
    "len(getVirtualLocations(fileOutputPath,getFilename(data['Filename'][155])))"
   ]
  },
  {
   "cell_type": "code",
   "execution_count": null,
   "metadata": {},
   "outputs": [],
   "source": [
    "fileindex = 125\n",
    "showOnMap(getLocations(fileOutputPath,getFilename(data['Filename'][fileindex])))"
   ]
  },
  {
   "cell_type": "markdown",
   "metadata": {},
   "source": [
    "### Print Values"
   ]
  },
  {
   "cell_type": "code",
   "execution_count": null,
   "metadata": {},
   "outputs": [],
   "source": [
    "import datetime\n",
    "\n",
    "def getTimeInMinute(time):\n",
    "    result = time/60\n",
    "    return \"{:.1f}\".format(result)\n",
    "\n",
    "def getValue(value):\n",
    "    return \"{:.2f}\".format(value)\n",
    "\n",
    "def getSpeedkmH(speed):\n",
    "    result = speed * (3600/1000)\n",
    "    return \"{:.2f}\".format(result)\n",
    "    \n",
    "def getDate(strDate):\n",
    "    date_time_str = strDate #'2018-06-29 08:15:27.243860'\n",
    "    date_time_obj = datetime.datetime.strptime(date_time_str, '%b %d, %Y, %H:%M:%S %p')\n",
    "    return date_time_obj.strftime(\"%b %d, %Y\")"
   ]
  },
  {
   "cell_type": "code",
   "execution_count": null,
   "metadata": {},
   "outputs": [],
   "source": [
    "data.columns"
   ]
  },
  {
   "cell_type": "code",
   "execution_count": null,
   "metadata": {},
   "outputs": [],
   "source": [
    "import pandas as pd\n",
    "\n",
    "def printActivityData(row):\n",
    "    try:\n",
    "        # print common stats\n",
    "        print(\" -- \", row['Activity Name'], \" -- \")\n",
    "        print(\"Activity Date:\", getDate(row['Activity Date']))\n",
    "        print(f\"Distance: { row['Distance']} km\")\n",
    "        print(f\"Elapsed Time: { getTimeInMinute(row['Elapsed Time'])} min\")\n",
    "        print(f\"Moving Time: { getTimeInMinute(row['Moving Time'])} min\")\n",
    "        print(f\"Max Speed: { getSpeedkmH(row['Max Speed'])} km/h\")\n",
    "        print(f\"Average Speed: { getSpeedkmH(row['Average Speed'])} km/h\")\n",
    "        print(f\"Elevation Gain: { round(row['Elevation Gain'])}\")\n",
    "        print(f\"Elevation High: { round(row['Elevation High'])}\")\n",
    "        \n",
    "        # print Ride Type specific stats\n",
    "        if(row['Activity Type']==\"Virtual Ride\"):\n",
    "            print(f\"Weighted Average Power: { round(row['Weighted Average Power'])}\")\n",
    "            print(f\"Power Count: { round(row['Power Count'])}\")\n",
    "            print(f\"Max Cadence: { round(row['Max Cadence'])}\")\n",
    "            print(f\"Average Cadence: { getValue(row['Average Cadence'])}\")\n",
    "            print(f\"Average Watts: { round(row['Average Watts'])}\")\n",
    "            print(f\"Calories: { round(row['Calories'])}\")\n",
    "\n",
    "    except Exception as ex:\n",
    "        print(\"An Error Occured:\", ex)\n",
    "                  \n",
    "def showPowerHist(virtualLocList): \n",
    "    dfSteps = pd.DataFrame(virtualLocList, columns =['Latitude', 'Longtitude','Elevation','Power','Date']) \n",
    "    dfSteps = dfSteps.astype({\"Power\": int})\n",
    "    \n",
    "    return dfSteps['Power'].plot(kind = 'hist')\n",
    "\n",
    "def showPowerGraph(virtualLocList): \n",
    "    # Power/Time Distrubition Graph\n",
    "    dfSteps = pd.DataFrame(virtualLocList, columns =['Latitude', 'Longtitude','Elevation','Power','Date']) \n",
    "    dfSteps = dfSteps.astype({\"Power\": int})\n",
    "    powerPlot = sns.lineplot(data=dfSteps, x=\"Date\", y=\"Power\")\n",
    "    powerPlot.set(xticklabels=[]) \n",
    "    powerPlot.set(xlabel=None)\n",
    "    powerPlot.tick_params(bottom=False) \n",
    "    return powerPlot"
   ]
  },
  {
   "cell_type": "code",
   "execution_count": null,
   "metadata": {
    "scrolled": false
   },
   "outputs": [],
   "source": [
    "## Show details about rides\n",
    "\n",
    "for index, row in data[-5:].iterrows():\n",
    "    try:       \n",
    "        # print Actvities\n",
    "        printActivityData(row)\n",
    "\n",
    "        # print Ride Type specific stats\n",
    "        if(row['Activity Type']==\"Virtual Ride\"):\n",
    "            virtualSteps = getVirtualLocations(fileOutputPath,getFilename(row['Filename']))\n",
    "            virtLocs = [[t[0],t[1]] for t in virtualSteps]\n",
    "            map = showOnMap(virtLocs)\n",
    "            showPowerHist(virtualSteps)\n",
    "            #showPowerGraph(virtualSteps)\n",
    "        elif(row['Activity Type']==\"Ride\"):\n",
    "            map = showOnMap(getLocations(fileOutputPath,getFilename(row['Filename'])))\n",
    "        print(\" \")\n",
    "    except Exception as ex:\n",
    "        print(\"An Error Occured:\", ex)\n",
    "\n",
    "# Print the latest power graph\n",
    "# powerGraph\n",
    "                  \n",
    "# Print the latest map        \n",
    "map"
   ]
  },
  {
   "cell_type": "code",
   "execution_count": null,
   "metadata": {},
   "outputs": [],
   "source": [
    "# Ride Graph\n",
    "sns.barplot(x=\"Activity Type\", y=\"Distance\", data=data, estimator=sum)"
   ]
  },
  {
   "cell_type": "code",
   "execution_count": null,
   "metadata": {},
   "outputs": [],
   "source": [
    "data['Distance'].plot(kind = 'hist')"
   ]
  },
  {
   "cell_type": "code",
   "execution_count": null,
   "metadata": {},
   "outputs": [],
   "source": [
    "data['Weighted Average Power'].plot(kind = 'hist')"
   ]
  },
  {
   "cell_type": "code",
   "execution_count": null,
   "metadata": {},
   "outputs": [],
   "source": [
    "data['Calories'].plot(kind = 'hist')"
   ]
  },
  {
   "cell_type": "code",
   "execution_count": null,
   "metadata": {},
   "outputs": [],
   "source": []
  },
  {
   "cell_type": "code",
   "execution_count": null,
   "metadata": {},
   "outputs": [],
   "source": []
  }
 ],
 "metadata": {
  "kernelspec": {
   "display_name": "Python 3",
   "language": "python",
   "name": "python3"
  },
  "language_info": {
   "codemirror_mode": {
    "name": "ipython",
    "version": 3
   },
   "file_extension": ".py",
   "mimetype": "text/x-python",
   "name": "python",
   "nbconvert_exporter": "python",
   "pygments_lexer": "ipython3",
   "version": "3.8.7"
  }
 },
 "nbformat": 4,
 "nbformat_minor": 2
}
