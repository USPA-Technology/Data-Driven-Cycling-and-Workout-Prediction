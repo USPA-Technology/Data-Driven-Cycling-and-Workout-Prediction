{
 "cells": [
  {
   "cell_type": "markdown",
   "metadata": {},
   "source": [
    "### Import Activities File"
   ]
  },
  {
   "cell_type": "code",
   "execution_count": null,
   "metadata": {},
   "outputs": [],
   "source": [
    "import pandas as pd\n",
    "df = pd.read_csv('Data/activities.csv')\n",
    "df.columns"
   ]
  },
  {
   "cell_type": "code",
   "execution_count": null,
   "metadata": {},
   "outputs": [],
   "source": [
    "df.columns[-7:-1]"
   ]
  },
  {
   "cell_type": "code",
   "execution_count": null,
   "metadata": {},
   "outputs": [],
   "source": [
    "len(df.columns)"
   ]
  },
  {
   "cell_type": "code",
   "execution_count": null,
   "metadata": {},
   "outputs": [],
   "source": [
    "df[df.columns[3]].unique()"
   ]
  },
  {
   "cell_type": "code",
   "execution_count": null,
   "metadata": {},
   "outputs": [],
   "source": [
    "data = df[df.columns[[0,1,2,3,4,5,6,10,13,14,15,16,17,18,19,20,21,22,23,26,27,31,32,41,44,45,47,50]]]\n",
    "data.head()"
   ]
  },
  {
   "cell_type": "code",
   "execution_count": null,
   "metadata": {},
   "outputs": [],
   "source": [
    "rideTypes = ['Virtual Ride', 'Ride']\n",
    "virtual_rides = data[data['Activity Type'].isin(rideTypes)]\n",
    "virtual_rides"
   ]
  },
  {
   "cell_type": "markdown",
   "metadata": {},
   "source": [
    "### Extract GPX.GZ File"
   ]
  },
  {
   "cell_type": "code",
   "execution_count": null,
   "metadata": {},
   "outputs": [],
   "source": [
    "filepath = \"data/\""
   ]
  },
  {
   "cell_type": "code",
   "execution_count": null,
   "metadata": {},
   "outputs": [],
   "source": [
    "# Extract activity filename\n",
    "filenamegz = data['Filename'][140]\n",
    "print(filenamegz)\n",
    "filename=filenamegz[:-3]\n",
    "print(filename)"
   ]
  },
  {
   "cell_type": "code",
   "execution_count": null,
   "metadata": {},
   "outputs": [],
   "source": [
    "# Extract GPX File\n",
    "import gzip\n",
    "import shutil\n",
    "with gzip.open(filepath + filenamegz, 'rb') as f_in:\n",
    "    with open(filepath + filename, 'wb') as f_out:\n",
    "        shutil.copyfileobj(f_in, f_out)"
   ]
  },
  {
   "cell_type": "code",
   "execution_count": null,
   "metadata": {},
   "outputs": [],
   "source": [
    "## Test to read file \n",
    "# with open(filepath + filename, 'r') as test:\n",
    "#     print(test.read())"
   ]
  },
  {
   "cell_type": "markdown",
   "metadata": {},
   "source": [
    "### Read GPX File"
   ]
  },
  {
   "cell_type": "code",
   "execution_count": null,
   "metadata": {},
   "outputs": [],
   "source": [
    "## Install python-benedict library\n",
    "# !pip install python-benedict"
   ]
  },
  {
   "cell_type": "code",
   "execution_count": null,
   "metadata": {},
   "outputs": [],
   "source": [
    "from benedict import benedict as bdict\n",
    "# data-source can be an url, a filepath or data-string (as in this example)\n",
    "data_source = filepath + filename\n",
    "xmldata = bdict.from_xml(data_source)\n",
    "#xmldata"
   ]
  },
  {
   "cell_type": "code",
   "execution_count": null,
   "metadata": {},
   "outputs": [],
   "source": [
    "trk_list = xmldata['gpx.trk.trkseg.trkpt']\n",
    "trk_list"
   ]
  },
  {
   "cell_type": "code",
   "execution_count": null,
   "metadata": {},
   "outputs": [],
   "source": [
    "locs=[]\n",
    "trk_array = []\n",
    "for t in trk_list:\n",
    "    print(\"lat:\", end=\" \")\n",
    "    print(t['@lat'], end=\",\")\n",
    "    print(\"lon:\", end=\" \")\n",
    "    print(t['@lon'], end=\", \")\n",
    "    print(\"time:\", end=\" \")\n",
    "    print(t['time'])\n",
    "    trk_array.append([t['@lat'],t['@lon'],t['time']])\n",
    "    locs.append([float(t['@lat']),float(t['@lon'])])"
   ]
  },
  {
   "cell_type": "code",
   "execution_count": null,
   "metadata": {},
   "outputs": [],
   "source": [
    "#locs"
   ]
  },
  {
   "cell_type": "code",
   "execution_count": null,
   "metadata": {},
   "outputs": [],
   "source": [
    "len(trk_array)"
   ]
  },
  {
   "cell_type": "code",
   "execution_count": null,
   "metadata": {},
   "outputs": [],
   "source": [
    "#trk_array"
   ]
  },
  {
   "cell_type": "code",
   "execution_count": null,
   "metadata": {},
   "outputs": [],
   "source": [
    "gps_steps = pd.DataFrame(trk_array,columns=['Latitude','Longtitude','Time'])\n",
    "gps_steps"
   ]
  },
  {
   "cell_type": "markdown",
   "metadata": {},
   "source": [
    "### Data Visualization"
   ]
  },
  {
   "cell_type": "code",
   "execution_count": null,
   "metadata": {},
   "outputs": [],
   "source": [
    "## Install for Data Visualization\n",
    "#!pip install ipyleaflet\n",
    "#!jupyter nbextension enable --py --sys-prefix ipyleaflet \n",
    "#\n",
    "# or just use conda\n",
    "#!conda install -c conda-forge ipyleaflet"
   ]
  },
  {
   "cell_type": "code",
   "execution_count": null,
   "metadata": {},
   "outputs": [],
   "source": [
    "# Geo Map plot sample\n",
    "from ipyleaflet import Map, Polyline\n",
    "\n",
    "line = Polyline(\n",
    "    locations=locs,\n",
    "    color=\"green\" ,\n",
    "    fill=False\n",
    ")\n",
    "\n",
    "m = Map(center = ((min(locs)[0]+max(locs)[0])/2, (min(locs)[1]+max(locs)[1])/2), zoom =12)\n",
    "m.add_layer(line)\n",
    "m"
   ]
  }
 ],
 "metadata": {
  "kernelspec": {
   "display_name": "Python 3",
   "language": "python",
   "name": "python3"
  },
  "language_info": {
   "codemirror_mode": {
    "name": "ipython",
    "version": 3
   },
   "file_extension": ".py",
   "mimetype": "text/x-python",
   "name": "python",
   "nbconvert_exporter": "python",
   "pygments_lexer": "ipython3",
   "version": "3.7.4"
  }
 },
 "nbformat": 4,
 "nbformat_minor": 2
}
