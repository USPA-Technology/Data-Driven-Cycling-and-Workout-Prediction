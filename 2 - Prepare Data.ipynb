{
 "cells": [
  {
   "cell_type": "markdown",
   "metadata": {},
   "source": [
    "# Data Preperation"
   ]
  },
  {
   "cell_type": "code",
   "execution_count": null,
   "metadata": {},
   "outputs": [],
   "source": [
    "from utils import *"
   ]
  },
  {
   "cell_type": "code",
   "execution_count": null,
   "metadata": {},
   "outputs": [],
   "source": [
    "data = loadData()\n",
    "data.head()"
   ]
  },
  {
   "cell_type": "code",
   "execution_count": null,
   "metadata": {},
   "outputs": [],
   "source": [
    "import warnings\n",
    "warnings.filterwarnings('ignore')\n",
    "\n",
    "for a in range(len(data)):\n",
    "    data['Date'][a] = getDate(data['Activity Date'][a])\n",
    "    data['Time'][a] = getTime(data['Activity Date'][a])\n",
    "    data['Elapsed Time'][a] = getTimeInMinute(data['Elapsed Time'][a])\n",
    "    data['Moving Time'][a] = getTimeInMinute(data['Moving Time'][a])\n",
    "    data['Max Speed'][a] = getSpeedkmH(data['Max Speed'][a])\n",
    "    data['Average Speed'][a] = getSpeedkmH(data['Average Speed'][a])\n",
    "    \n",
    "data.head()"
   ]
  },
  {
   "cell_type": "code",
   "execution_count": null,
   "metadata": {},
   "outputs": [],
   "source": [
    "data.columns"
   ]
  },
  {
   "cell_type": "code",
   "execution_count": 13,
   "metadata": {},
   "outputs": [],
   "source": [
    "#for col in data.columns:\n",
    "#    print(len(data[col].unique()))\n",
    "#data.head()"
   ]
  },
  {
   "cell_type": "code",
   "execution_count": null,
   "metadata": {},
   "outputs": [],
   "source": [
    "# Activity Type / Weekly Ride / Distance Graph\n",
    "\n",
    "#data['Week'] = pd.to_datetime(data['Date']) - pd.to_timedelta(7, unit='d')\n",
    "#df = data.groupby(['Activity Type', pd.Grouper(key='Week', freq='W-MON')])['Distance'].sum().reset_index().sort_values('Week')\n",
    "#print (df)"
   ]
  },
  {
   "cell_type": "code",
   "execution_count": null,
   "metadata": {},
   "outputs": [],
   "source": [
    "# Prepare Week of the Year\n",
    "data['Week'] = pd.to_datetime(data['Date']) - pd.to_timedelta(7, unit='d')"
   ]
  },
  {
   "cell_type": "code",
   "execution_count": null,
   "metadata": {},
   "outputs": [],
   "source": [
    "# Export clean data\n",
    "saveData(data)"
   ]
  }
 ],
 "metadata": {
  "kernelspec": {
   "display_name": "Python 3",
   "language": "python",
   "name": "python3"
  },
  "language_info": {
   "codemirror_mode": {
    "name": "ipython",
    "version": 3
   },
   "file_extension": ".py",
   "mimetype": "text/x-python",
   "name": "python",
   "nbconvert_exporter": "python",
   "pygments_lexer": "ipython3",
   "version": "3.8.7"
  }
 },
 "nbformat": 4,
 "nbformat_minor": 2
}
