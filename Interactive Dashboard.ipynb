{
 "cells": [
  {
   "cell_type": "code",
   "execution_count": null,
   "metadata": {},
   "outputs": [],
   "source": [
    "import pandas as pd\n",
    "\n",
    "filepath = \"data/\"\n",
    "fileOutputPath= filepath + \"output/\"\n",
    "\n",
    "activityPath = filepath + \"activities/\"\n",
    "activityOutputPath = fileOutputPath + \"activities/\"\n",
    "\n",
    "\n",
    "def loadData():\n",
    "    df = pd.read_csv(filepath+ 'activities.csv')\n",
    "    data = df[df.columns[[0,1,2,3,4,5,6,10,13,14,15,16,17,18,19,20,21,22,23,26,27,31,32,41,44,45,47,50]]]\n",
    "    data = data.astype({\"Distance\": float})\n",
    "\n",
    "    rideTypes = ['Virtual Ride', 'Ride']\n",
    "    rideData = data[data['Activity Type'].isin(rideTypes)]    \n",
    "    return rideData.dropna(subset=['Filename']).reset_index()\n"
   ]
  },
  {
   "cell_type": "code",
   "execution_count": null,
   "metadata": {},
   "outputs": [],
   "source": [
    "import ipywidgets as widgets\n",
    "\n",
    "style = {'description_width': 'initial'}\n",
    "\n",
    "limitCase = widgets.IntSlider(\n",
    "    value=200,\n",
    "    min=100,\n",
    "    max=250,\n",
    "    step=1,\n",
    "    description='Max Number of Case:',\n",
    "    disabled=False,\n",
    "    style=style)"
   ]
  },
  {
   "cell_type": "code",
   "execution_count": null,
   "metadata": {},
   "outputs": [],
   "source": [
    "def update_df_length(limit):\n",
    "    \n",
    "    df = loadData()\n",
    "    df = df.iloc[0:limit, :]\n",
    "    \n",
    "    print(\"Number of rows in the dataset that have been successfully loaded:\"+str(len(df)))"
   ]
  },
  {
   "cell_type": "code",
   "execution_count": null,
   "metadata": {},
   "outputs": [],
   "source": [
    "widgets.interactive(update_df_length, limit=limitCase)"
   ]
  },
  {
   "cell_type": "code",
   "execution_count": null,
   "metadata": {},
   "outputs": [],
   "source": [
    "df = loadData()\n",
    "df.head()"
   ]
  },
  {
   "cell_type": "code",
   "execution_count": null,
   "metadata": {},
   "outputs": [],
   "source": [
    "df.columns"
   ]
  },
  {
   "cell_type": "code",
   "execution_count": null,
   "metadata": {},
   "outputs": [],
   "source": [
    "activityType = df[\"Activity Type\"].unique()\n",
    "activityType"
   ]
  },
  {
   "cell_type": "code",
   "execution_count": null,
   "metadata": {},
   "outputs": [],
   "source": [
    "from ipywidgets import Layout\n",
    "\n",
    "activity = widgets.SelectMultiple(\n",
    "    options = activityType.tolist(),\n",
    "    value = ['Ride', 'Virtual Ride'],\n",
    "    description='Rides',\n",
    "    disabled=False,\n",
    "    style=style,\n",
    "    layout = Layout(width='50%', height='80px')\n",
    ")\n",
    "\n",
    "activity"
   ]
  },
  {
   "cell_type": "code",
   "execution_count": null,
   "metadata": {},
   "outputs": [],
   "source": [
    "import numpy as np\n",
    "import matplotlib.pyplot as plt\n",
    "\n",
    "def updateDashboard(activity, limit):\n",
    "    \n",
    "    df = loadData()\n",
    "    df = df.iloc[0:limit, :]\n",
    "      \n",
    "    df_type = df.loc[df['Activity Type'].isin(np.array(activityType))]\n",
    "    \n",
    "    type_unique = df_type['Activity Type'].value_counts()\n",
    "    type_unique = type_unique.reset_index()\n",
    "       \n",
    "    fig, (ax1, ax2) = plt.subplots(1, 2, figsize=(20,10))\n",
    "    \n",
    "    ax1.bar(type_unique['index'], type_unique['Activity Type'])\n",
    "    ax1.set_title('Total number of Rides based on Activity Type')\n",
    "    ax2.bar(type_unique['index'], type_unique['Activity Type'])\n",
    "    ax2.set_title('Total number of Rides based on Activity Type')\n",
    "    \n",
    "    plt.show()"
   ]
  },
  {
   "cell_type": "code",
   "execution_count": null,
   "metadata": {},
   "outputs": [],
   "source": [
    "#updateDashboard(activity,limitCase)\n",
    "\n",
    "widgets.interactive(updateDashboard, activity = activity, limit=limitCase)\n"
   ]
  },
  {
   "cell_type": "code",
   "execution_count": null,
   "metadata": {},
   "outputs": [],
   "source": []
  },
  {
   "cell_type": "code",
   "execution_count": null,
   "metadata": {},
   "outputs": [],
   "source": []
  }
 ],
 "metadata": {
  "kernelspec": {
   "display_name": "Python 3",
   "language": "python",
   "name": "python3"
  },
  "language_info": {
   "codemirror_mode": {
    "name": "ipython",
    "version": 3
   },
   "file_extension": ".py",
   "mimetype": "text/x-python",
   "name": "python",
   "nbconvert_exporter": "python",
   "pygments_lexer": "ipython3",
   "version": "3.8.7"
  }
 },
 "nbformat": 4,
 "nbformat_minor": 2
}
