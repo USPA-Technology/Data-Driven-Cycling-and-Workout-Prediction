{
 "cells": [
  {
   "cell_type": "markdown",
   "source": [
    "# Predict Workout Model Training"
   ],
   "metadata": {}
  },
  {
   "cell_type": "markdown",
   "source": [
    "Predict Workout Day and distance"
   ],
   "metadata": {}
  },
  {
   "cell_type": "code",
   "execution_count": null,
   "source": [
    "# import loadCorrelatedData function, and pandas\r\n",
    "from utils import loadCorrelatedData, pd\r\n",
    "\r\n",
    "from sklearn import preprocessing\r\n",
    "import pickle"
   ],
   "outputs": [],
   "metadata": {}
  },
  {
   "cell_type": "code",
   "execution_count": null,
   "source": [
    "data = loadCorrelatedData()\r\n",
    "data.head()"
   ],
   "outputs": [],
   "metadata": {}
  },
  {
   "cell_type": "markdown",
   "source": [
    "### Feature Extraction"
   ],
   "metadata": {}
  },
  {
   "cell_type": "code",
   "execution_count": null,
   "source": [
    "data['day'] = list(map(lambda t : t.day, data['Activity Date']))\r\n",
    "data['hour'] = list(map(lambda t : t.hour, data['Activity Date']))\r\n",
    "data['dayOfWeek'] = list(map(lambda t : t.dayofweek, data['Activity Date']))\r\n",
    "data['isWeekend'] = ((pd.DatetimeIndex(data['Activity Date']).dayofweek) // 5 == 1).astype(int)\r\n",
    "\r\n",
    "\r\n",
    "# convert all ride types to numeric value for decision making\r\n",
    "le_activity = preprocessing.LabelEncoder()\r\n",
    "le_activity.fit(data['Activity Type'])\r\n",
    "data['rideType'] = le_activity.transform(data['Activity Type'])\r\n",
    "\r\n",
    "\r\n",
    "# Transform weather conditions data to numeric value for decision making\r\n",
    "le = preprocessing.LabelEncoder()\r\n",
    "le.fit(data['weatherDesc'])\r\n",
    "data['weather'] = le.transform(data['weatherDesc'])"
   ],
   "outputs": [],
   "metadata": {}
  },
  {
   "cell_type": "markdown",
   "source": [
    "features: **['hour','dayOfWeek','isWeekend','temp','wind','weather']**"
   ],
   "metadata": {}
  },
  {
   "cell_type": "code",
   "execution_count": null,
   "source": [
    "# Select features as list of array\r\n",
    "X = data[['hour','dayOfWeek','isWeekend','temp','wind','weather']]\r\n",
    "X = X.to_numpy()\r\n",
    "X"
   ],
   "outputs": [],
   "metadata": {}
  },
  {
   "cell_type": "markdown",
   "source": [
    "### Prepare Predict"
   ],
   "metadata": {}
  },
  {
   "cell_type": "code",
   "execution_count": null,
   "source": [
    "# Set Distance values\r\n",
    "Y_distance = data['Distance']\r\n",
    "Y_distance = Y_distance.to_numpy()\r\n",
    "\r\n",
    "# Set Ride Type Values\r\n",
    "Y_rideType = data['rideType']\r\n",
    "Y_rideType = Y_rideType.to_numpy()"
   ],
   "outputs": [],
   "metadata": {}
  },
  {
   "cell_type": "markdown",
   "source": [
    "## Linear Regression for Distance prediction"
   ],
   "metadata": {}
  },
  {
   "cell_type": "code",
   "execution_count": null,
   "source": [
    "# example of training a final regression model\r\n",
    "from sklearn.linear_model import LinearRegression\r\n",
    "# fit final model\r\n",
    "model = LinearRegression()\r\n",
    "model.fit(X[0:160], Y_distance[0:160])\r\n",
    "# make a prediction\r\n",
    "Xnew = X[160:167]\r\n",
    "ynew = model.predict(Xnew)\r\n",
    "# show the inputs and predicted outputs\r\n",
    "for i in range(len(Xnew)):\r\n",
    "    j = 160\r\n",
    "    print(\"X=%s, Predicted=%s, Actual Distance=%s, Actual Ride Type=%s\" % (Xnew[i], ynew[i],Y_distance[j+i],Y_rideType[j+i]))"
   ],
   "outputs": [],
   "metadata": {}
  },
  {
   "cell_type": "markdown",
   "source": [
    "## Logistic Regression for RideType Prediction"
   ],
   "metadata": {}
  },
  {
   "cell_type": "code",
   "execution_count": null,
   "source": [
    "from sklearn.linear_model import LogisticRegression\r\n",
    "clf = LogisticRegression(random_state=0).fit(X, Y_rideType)\r\n",
    "result_ridetype = clf.predict([[8,6,1,20,3,0]])\r\n",
    "print(\"Result type prediction=%s\" % result_ridetype)\r\n",
    "\r\n",
    "result_ridetype = clf.predict([[8,6,1,10,12,1]])\r\n",
    "print(\"Result type prediction=%s\" % result_ridetype)"
   ],
   "outputs": [],
   "metadata": {}
  },
  {
   "cell_type": "code",
   "execution_count": null,
   "source": [
    "#Ride for the weekend\r\n",
    "result_ridetype = clf.predict([[8,6,1,8,12,3],[9,7,1,20,17,3],[8,2,0,14,17,3]])\r\n",
    "print(\"Result type prediction=%s\" % result_ridetype)\r\n",
    "\r\n",
    "#Ride for Weekend\r\n",
    "result = model.predict([[9,6,1,10,12,3],[9,7,1,20,17,3],[8,2,0,14,17,3]])\r\n",
    "print(result)"
   ],
   "outputs": [],
   "metadata": {}
  },
  {
   "cell_type": "markdown",
   "source": [
    "### Export Model as a file"
   ],
   "metadata": {}
  },
  {
   "cell_type": "code",
   "execution_count": null,
   "source": [
    "# Save to file in the model folder\r\n",
    "distance_model_file = \"../web/model/distance_model_1.pkl\"\r\n",
    "with open(distance_model_file, 'wb') as file:\r\n",
    "   pickle.dump(model, file)\r\n",
    "   \r\n",
    "ridetype_model_file = \"../web/model/ridetype_model_1.pkl\"\r\n",
    "with open(ridetype_model_file, 'wb') as file:\r\n",
    "   pickle.dump(clf, file)"
   ],
   "outputs": [],
   "metadata": {}
  }
 ],
 "metadata": {
  "kernelspec": {
   "name": "python3",
   "display_name": "Python 3.8.7 64-bit"
  },
  "language_info": {
   "codemirror_mode": {
    "name": "ipython",
    "version": 3
   },
   "file_extension": ".py",
   "mimetype": "text/x-python",
   "name": "python",
   "nbconvert_exporter": "python",
   "pygments_lexer": "ipython3",
   "version": "3.8.7"
  },
  "interpreter": {
   "hash": "1c661ae3ab0cfc49b56ab36fd23002985fa1d04f8f645f22a28076dfc20be195"
  }
 },
 "nbformat": 4,
 "nbformat_minor": 4
}