{
 "cells": [
  {
   "cell_type": "markdown",
   "source": [
    "# Data Preperation"
   ],
   "metadata": {}
  },
  {
   "cell_type": "code",
   "execution_count": 13,
   "source": [
    "from utils import *\r\n",
    "import warnings\r\n",
    "warnings.filterwarnings('ignore')"
   ],
   "outputs": [],
   "metadata": {}
  },
  {
   "cell_type": "code",
   "execution_count": 14,
   "source": [
    "data = loadData()"
   ],
   "outputs": [],
   "metadata": {}
  },
  {
   "cell_type": "code",
   "execution_count": 15,
   "source": [
    "# Convert values\r\n",
    "for i in range(len(data)):\r\n",
    "    data['Date'][i] = getDate(data['Activity Date'][i])\r\n",
    "    data['Time'][i] = getTime(data['Activity Date'][i])\r\n",
    "    data['Elapsed Time'][i] = getTimeInMinute(data['Elapsed Time'][i])\r\n",
    "    data['Moving Time'][i] = getTimeInMinute(data['Moving Time'][i])\r\n",
    "    data['Max Speed'][i] = getSpeedkmH(data['Max Speed'][i])\r\n",
    "    data['Average Speed'][i] = getSpeedkmH(data['Average Speed'][i])\r\n",
    "\r\n",
    "# Prepare Week of the Year\r\n",
    "data['Week'] = pd.to_datetime(data['Date']) - pd.to_timedelta(7, unit='d')"
   ],
   "outputs": [],
   "metadata": {}
  },
  {
   "cell_type": "code",
   "execution_count": null,
   "source": [
    "# Export clean data\r\n",
    "saveData(data)"
   ],
   "outputs": [],
   "metadata": {}
  }
 ],
 "metadata": {
  "kernelspec": {
   "name": "python3",
   "display_name": "Python 3.8.7 64-bit"
  },
  "language_info": {
   "codemirror_mode": {
    "name": "ipython",
    "version": 3
   },
   "file_extension": ".py",
   "mimetype": "text/x-python",
   "name": "python",
   "nbconvert_exporter": "python",
   "pygments_lexer": "ipython3",
   "version": "3.8.7"
  },
  "interpreter": {
   "hash": "1c661ae3ab0cfc49b56ab36fd23002985fa1d04f8f645f22a28076dfc20be195"
  }
 },
 "nbformat": 4,
 "nbformat_minor": 2
}