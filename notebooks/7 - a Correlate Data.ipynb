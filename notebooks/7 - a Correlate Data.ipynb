{
 "cells": [
  {
   "cell_type": "markdown",
   "source": [
    "# Predict Workout"
   ],
   "metadata": {}
  },
  {
   "cell_type": "markdown",
   "source": [
    "Predict Workout Day and distance"
   ],
   "metadata": {}
  },
  {
   "cell_type": "code",
   "execution_count": null,
   "source": [
    "from utils import *\r\n",
    "import numpy as np\r\n",
    "\r\n",
    "# import api_key from myconfig file\r\n",
    "from myconfig import *"
   ],
   "outputs": [],
   "metadata": {}
  },
  {
   "cell_type": "markdown",
   "source": [
    "### Load Data"
   ],
   "metadata": {}
  },
  {
   "cell_type": "code",
   "execution_count": null,
   "source": [
    "# load clean data\r\n",
    "data = loadCleanData()\r\n",
    "\r\n",
    "# define new coloumns\r\n",
    "data[['temp','wind','weather','day','hour','dayOfWeek','isWeekend']] = np.nan\r\n",
    "data[['weatherDesc']] = \"\""
   ],
   "outputs": [],
   "metadata": {}
  },
  {
   "cell_type": "markdown",
   "source": [
    "### Feature Extraction"
   ],
   "metadata": {}
  },
  {
   "cell_type": "code",
   "execution_count": null,
   "source": [
    "data['day'] = list(map(lambda t : t.day, data['Activity Date']))\r\n",
    "data['hour'] = list(map(lambda t : t.hour, data['Activity Date']))\r\n",
    "data['dayOfWeek'] = list(map(lambda t : t.dayofweek, data['Activity Date']))\r\n",
    "data['isWeekend'] = ((pd.DatetimeIndex(data['Activity Date']).dayofweek) // 5 == 1).astype(int)"
   ],
   "outputs": [],
   "metadata": {}
  },
  {
   "cell_type": "code",
   "execution_count": null,
   "source": [
    "# get weather data and save \r\n",
    "city = \"Istanbul\"\r\n",
    "\r\n",
    "# iterate for all ride date to extract weather\r\n",
    "for index, row in data.iterrows():\r\n",
    "   try:\r\n",
    "       temp, wind, weatherDesc = get_weather(api_key, city, row['Activity Date'], row['hour'])\r\n",
    "       data['temp'][index] = temp\r\n",
    "       data['wind'][index] = wind \r\n",
    "       data['weatherDesc'][index] = weatherDesc\r\n",
    "       #print(row['Activity Date'], temp, wind, weatherDesc)\r\n",
    "   except Exception as e:\r\n",
    "       print(\"Error:\", e, row['Activity Date'])"
   ],
   "outputs": [],
   "metadata": {}
  },
  {
   "cell_type": "code",
   "execution_count": null,
   "source": [
    "# convert all ride types to numeric value for decision making\r\n",
    "le_activity = preprocessing.LabelEncoder()\r\n",
    "le_activity.fit(data['Activity Type'])\r\n",
    "data['rideType'] = le_activity.transform(data['Activity Type'])\r\n",
    "\r\n",
    "\r\n",
    "# Transform weather conditions data to numeric value for decision making\r\n",
    "le = preprocessing.LabelEncoder()\r\n",
    "le.fit(data['weatherDesc'])\r\n",
    "data['weather'] = le.transform(data['weatherDesc'])"
   ],
   "outputs": [],
   "metadata": {}
  },
  {
   "cell_type": "markdown",
   "source": [
    "### Save Correlated Data"
   ],
   "metadata": {}
  },
  {
   "cell_type": "code",
   "execution_count": null,
   "source": [
    "# Export correlated data\r\n",
    "saveCorrelatedData(data)"
   ],
   "outputs": [],
   "metadata": {}
  }
 ],
 "metadata": {
  "kernelspec": {
   "name": "python3",
   "display_name": "Python 3.8.7 64-bit"
  },
  "language_info": {
   "codemirror_mode": {
    "name": "ipython",
    "version": 3
   },
   "file_extension": ".py",
   "mimetype": "text/x-python",
   "name": "python",
   "nbconvert_exporter": "python",
   "pygments_lexer": "ipython3",
   "version": "3.8.7"
  },
  "interpreter": {
   "hash": "1c661ae3ab0cfc49b56ab36fd23002985fa1d04f8f645f22a28076dfc20be195"
  }
 },
 "nbformat": 4,
 "nbformat_minor": 4
}