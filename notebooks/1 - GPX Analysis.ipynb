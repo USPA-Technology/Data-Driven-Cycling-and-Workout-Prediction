{
 "cells": [
  {
   "cell_type": "markdown",
   "metadata": {},
   "source": [
    "### Import Activities File"
   ]
  },
  {
   "cell_type": "markdown",
   "metadata": {},
   "source": [
    "### Explore Activities on Strava Data"
   ]
  },
  {
   "cell_type": "code",
   "execution_count": null,
   "metadata": {},
   "outputs": [],
   "source": [
    "import pandas as pd\n",
    "df = pd.read_csv('../data/activities.csv')\n",
    "df.columns"
   ]
  },
  {
   "cell_type": "code",
   "execution_count": null,
   "metadata": {},
   "outputs": [],
   "source": [
    "# Total lines & total number of columns\n",
    "df.shape"
   ]
  },
  {
   "cell_type": "code",
   "execution_count": null,
   "metadata": {},
   "outputs": [],
   "source": [
    "# Unique Activity Types\n",
    "df[\"Activity Type\"].unique()"
   ]
  },
  {
   "cell_type": "code",
   "execution_count": null,
   "metadata": {},
   "outputs": [],
   "source": [
    "# Pick necessary columns to work with\n",
    "data = df[df.columns[[0,1,2,3,4,5,6,10,13,14,15,16,17,18,19,20,21,22,23,26,27,31,32,41,44,45,47,50]]]\n",
    "data[-7:]"
   ]
  },
  {
   "cell_type": "code",
   "execution_count": null,
   "metadata": {},
   "outputs": [],
   "source": [
    "# Filter down to only Bicycle Rides (Ride and Virtual Ride)\n",
    "rideTypes = ['Virtual Ride', 'Ride']\n",
    "virtual_rides = data[data['Activity Type'].isin(rideTypes)]\n",
    "virtual_rides"
   ]
  },
  {
   "cell_type": "markdown",
   "metadata": {},
   "source": [
    "### Extract GPX.GZ File"
   ]
  },
  {
   "cell_type": "code",
   "execution_count": null,
   "metadata": {},
   "outputs": [],
   "source": [
    "# define input data and output data path\n",
    "filepath = \"../data/\"\n",
    "fileOutputPath= filepath + \"output/\""
   ]
  },
  {
   "cell_type": "code",
   "execution_count": null,
   "metadata": {},
   "outputs": [],
   "source": [
    "# Extract activity filename\n",
    "filenamegz = data['Filename'][140]\n",
    "print(filenamegz)\n",
    "filename=filenamegz[:-3]\n",
    "print(filename)"
   ]
  },
  {
   "cell_type": "code",
   "execution_count": null,
   "metadata": {},
   "outputs": [],
   "source": [
    "# Extract GPX File to examine\n",
    "import gzip\n",
    "import shutil\n",
    "with gzip.open(filepath + filenamegz, 'rb') as f_in:\n",
    "    with open(fileOutputPath + filename, 'wb') as f_out:\n",
    "        shutil.copyfileobj(f_in, f_out)"
   ]
  },
  {
   "cell_type": "code",
   "execution_count": null,
   "metadata": {},
   "outputs": [],
   "source": [
    "# Print a GPX data to understand \n",
    "with open(fileOutputPath + filename, 'r') as test:\n",
    "    print(test.read())"
   ]
  },
  {
   "cell_type": "markdown",
   "metadata": {},
   "source": [
    "### Read GPX File"
   ]
  },
  {
   "cell_type": "code",
   "execution_count": null,
   "metadata": {},
   "outputs": [],
   "source": [
    "## Install python-benedict library\n",
    "# !pip install python-benedict"
   ]
  },
  {
   "cell_type": "code",
   "execution_count": null,
   "metadata": {},
   "outputs": [],
   "source": [
    "from benedict import benedict as bdict\n",
    "# data-source can be an url, a filepath or data-string (as in this example)\n",
    "data_source = fileOutputPath + filename\n",
    "xmldata = bdict.from_xml(data_source)\n",
    "#xmldata"
   ]
  },
  {
   "cell_type": "code",
   "execution_count": null,
   "metadata": {},
   "outputs": [],
   "source": [
    "trk_list = xmldata['gpx.trk.trkseg.trkpt']\n",
    "trk_list"
   ]
  },
  {
   "cell_type": "code",
   "execution_count": null,
   "metadata": {},
   "outputs": [],
   "source": [
    "# Put just Location data into an array\n",
    "locs=[]\n",
    "for t in trk_list:\n",
    "    print(f\"lat: %s, lon: %s, time: %s\" % (t['@lat'], t['@lon'],t['time']))\n",
    "    locs.append([float(t['@lat']),float(t['@lon'])])"
   ]
  },
  {
   "cell_type": "code",
   "execution_count": null,
   "metadata": {},
   "outputs": [],
   "source": [
    "len(locs)"
   ]
  },
  {
   "cell_type": "markdown",
   "metadata": {},
   "source": [
    "### Data Visualization"
   ]
  },
  {
   "cell_type": "code",
   "execution_count": null,
   "metadata": {},
   "outputs": [],
   "source": [
    "## Install for Data Visualization\n",
    "#!pip install ipyleaflet\n",
    "#!jupyter nbextension enable --py --sys-prefix ipyleaflet \n",
    "#\n",
    "# or just use conda\n",
    "#!conda install -c conda-forge ipyleaflet"
   ]
  },
  {
   "cell_type": "code",
   "execution_count": null,
   "metadata": {},
   "outputs": [],
   "source": [
    "# Geo Map plot sample\n",
    "from ipyleaflet import Map, Polyline\n",
    "\n",
    "line = Polyline(\n",
    "    locations=locs,\n",
    "    color=\"green\" ,\n",
    "    fill=False\n",
    ")\n",
    "\n",
    "m = Map(center = ((min(locs)[0]+max(locs)[0])/2, (min(locs)[1]+max(locs)[1])/2), zoom =12)\n",
    "m.add_layer(line)\n",
    "m"
   ]
  },
  {
   "cell_type": "code",
   "execution_count": null,
   "metadata": {},
   "outputs": [],
   "source": [
    "fileOutputPath"
   ]
  },
  {
   "cell_type": "markdown",
   "metadata": {},
   "source": [
    "#### Power Distribution on a Ride"
   ]
  },
  {
   "cell_type": "code",
   "execution_count": null,
   "metadata": {},
   "outputs": [],
   "source": [
    "from utils import *\n",
    "import matplotlib.pyplot as plt\n",
    "import seaborn as sns\n",
    "sns.set()\n",
    "\n",
    "virtualSteps = getVirtualLocations(fileOutputPath,getFilename(data['Filename'][190]))\n",
    "  \n",
    "dfSteps = pd.DataFrame(virtualSteps, columns =['Latitude', 'Longtitude','Elevation','Power','Date']) \n",
    "dfSteps = dfSteps.astype({\"Power\": int})\n",
    "\n",
    "plt.figure(figsize=(15,8))\n",
    "powerPlot = sns.lineplot(data=dfSteps, x=\"Date\", y=\"Power\")\n",
    "powerPlot.set(xticklabels=[]) \n",
    "powerPlot.set(xlabel=None)\n",
    "powerPlot.tick_params(bottom=False) \n",
    "powerPlot"
   ]
  },
  {
   "cell_type": "code",
   "execution_count": null,
   "metadata": {},
   "outputs": [],
   "source": [
    "dfSteps['Power'].plot(kind = 'hist', figsize=(14,8))"
   ]
  },
  {
   "cell_type": "markdown",
   "metadata": {},
   "source": [
    "### Investigate on Values"
   ]
  },
  {
   "cell_type": "code",
   "execution_count": null,
   "metadata": {},
   "outputs": [],
   "source": [
    "df[['Activity Name','Moving Time', 'Max Speed','Average Speed','Weighted Average Power', 'Power Count']][170:176]"
   ]
  },
  {
   "cell_type": "code",
   "execution_count": null,
   "metadata": {},
   "outputs": [],
   "source": [
    "#df['Weighted Average Power'][170] * df['Power Count'][170]"
   ]
  },
  {
   "cell_type": "code",
   "execution_count": null,
   "metadata": {},
   "outputs": [],
   "source": [
    "# distance km\n",
    "df['Distance.1'][170]/1000"
   ]
  },
  {
   "cell_type": "code",
   "execution_count": null,
   "metadata": {},
   "outputs": [],
   "source": [
    "# Max km/h speed original value is m/s\n",
    "# divide by 3600/1000\n",
    "df['Max Speed'][170]*3.6"
   ]
  }
 ],
 "metadata": {
  "kernelspec": {
   "display_name": "Python 3",
   "language": "python",
   "name": "python3"
  },
  "language_info": {
   "codemirror_mode": {
    "name": "ipython",
    "version": 3
   },
   "file_extension": ".py",
   "mimetype": "text/x-python",
   "name": "python",
   "nbconvert_exporter": "python",
   "pygments_lexer": "ipython3",
   "version": "3.8.7"
  }
 },
 "nbformat": 4,
 "nbformat_minor": 2
}
