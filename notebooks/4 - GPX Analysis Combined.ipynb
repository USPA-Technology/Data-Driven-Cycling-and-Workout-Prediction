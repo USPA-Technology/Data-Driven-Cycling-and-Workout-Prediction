{
 "cells": [
  {
   "cell_type": "markdown",
   "metadata": {},
   "source": [
    "### Import Activities File"
   ]
  },
  {
   "cell_type": "code",
   "execution_count": null,
   "metadata": {},
   "outputs": [],
   "source": [
    "## Install python-benedict library\n",
    "#!pip install python-benedict\n",
    "\n",
    "## Install for Data Visualization\n",
    "#!pip install ipyleaflet\n",
    "#!jupyter nbextension enable --py --sys-prefix ipyleaflet \n",
    "#\n",
    "# or just use conda\n",
    "#!conda install -c conda-forge ipyleaflet"
   ]
  },
  {
   "cell_type": "code",
   "execution_count": null,
   "metadata": {},
   "outputs": [],
   "source": [
    "from utils import *"
   ]
  },
  {
   "cell_type": "code",
   "execution_count": null,
   "metadata": {},
   "outputs": [],
   "source": [
    "import seaborn as sns\n",
    "sns.set()"
   ]
  },
  {
   "cell_type": "code",
   "execution_count": null,
   "metadata": {},
   "outputs": [],
   "source": [
    "data = loadCleanData()\n",
    "\n",
    "# Extract All gpx.gz files\n",
    "#extractAllGPXFiles()"
   ]
  },
  {
   "cell_type": "code",
   "execution_count": null,
   "metadata": {},
   "outputs": [],
   "source": [
    "len(data)"
   ]
  },
  {
   "cell_type": "code",
   "execution_count": null,
   "metadata": {},
   "outputs": [],
   "source": [
    "len(getVirtualLocations(fileOutputPath,getFilename(data['Filename'][155])))"
   ]
  },
  {
   "cell_type": "code",
   "execution_count": null,
   "metadata": {},
   "outputs": [],
   "source": [
    "fileindex = 125\n",
    "showOnMap(getLocations(fileOutputPath,getFilename(data['Filename'][fileindex])))"
   ]
  },
  {
   "cell_type": "markdown",
   "metadata": {},
   "source": [
    "### Print Values"
   ]
  },
  {
   "cell_type": "code",
   "execution_count": null,
   "metadata": {},
   "outputs": [],
   "source": [
    "data.columns"
   ]
  },
  {
   "cell_type": "code",
   "execution_count": null,
   "metadata": {
    "scrolled": false
   },
   "outputs": [],
   "source": [
    "## Show details about rides\n",
    "\n",
    "for index, row in data[-5:].iterrows():\n",
    "    try:       \n",
    "        # print Actvities\n",
    "        printActivityData(row)\n",
    "\n",
    "        # print Ride Type specific stats\n",
    "        if(row['Activity Type']==\"Virtual Ride\"):\n",
    "            virtualSteps = getVirtualLocations(fileOutputPath,getFilename(row['Filename']))\n",
    "            virtLocs = [[t[0],t[1]] for t in virtualSteps]\n",
    "            map = showOnMap(virtLocs)\n",
    "            showPowerHist(virtualSteps)\n",
    "            #showPowerGraph(virtualSteps)\n",
    "        elif(row['Activity Type']==\"Ride\"):\n",
    "            map = showOnMap(getLocations(fileOutputPath,getFilename(row['Filename'])))\n",
    "        print(\" \")\n",
    "    except Exception as ex:\n",
    "        print(\"An Error Occured:\", ex)\n",
    "\n",
    "# Print the latest power graph\n",
    "# powerGraph\n",
    "                  \n",
    "# Print the latest map        \n",
    "map"
   ]
  },
  {
   "cell_type": "code",
   "execution_count": null,
   "metadata": {},
   "outputs": [],
   "source": [
    "# Ride Graph\n",
    "sns.barplot(x=\"Activity Type\", y=\"Distance\", data=data, estimator=sum)"
   ]
  },
  {
   "cell_type": "code",
   "execution_count": null,
   "metadata": {},
   "outputs": [],
   "source": [
    "data['Distance'].plot(kind = 'hist')"
   ]
  },
  {
   "cell_type": "code",
   "execution_count": null,
   "metadata": {},
   "outputs": [],
   "source": [
    "data['Weighted Average Power'].plot(kind = 'hist')"
   ]
  },
  {
   "cell_type": "code",
   "execution_count": null,
   "metadata": {},
   "outputs": [],
   "source": [
    "data['Calories'].plot(kind = 'hist')"
   ]
  }
 ],
 "metadata": {
  "kernelspec": {
   "display_name": "Python 3",
   "language": "python",
   "name": "python3"
  },
  "language_info": {
   "codemirror_mode": {
    "name": "ipython",
    "version": 3
   },
   "file_extension": ".py",
   "mimetype": "text/x-python",
   "name": "python",
   "nbconvert_exporter": "python",
   "pygments_lexer": "ipython3",
   "version": "3.8.7"
  }
 },
 "nbformat": 4,
 "nbformat_minor": 2
}
