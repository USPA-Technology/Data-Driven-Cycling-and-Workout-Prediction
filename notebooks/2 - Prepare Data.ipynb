{
 "cells": [
  {
   "cell_type": "markdown",
   "source": [
    "# Data Preperation"
   ],
   "metadata": {}
  },
  {
   "cell_type": "code",
   "execution_count": null,
   "source": [
    "from utils import *"
   ],
   "outputs": [],
   "metadata": {}
  },
  {
   "cell_type": "code",
   "execution_count": null,
   "source": [
    "data = loadData()\r\n",
    "data.head()"
   ],
   "outputs": [],
   "metadata": {}
  },
  {
   "cell_type": "code",
   "execution_count": null,
   "source": [
    "import warnings\r\n",
    "warnings.filterwarnings('ignore')\r\n",
    "\r\n",
    "for a in range(len(data)):\r\n",
    "    data['Date'][a] = getDate(data['Activity Date'][a])\r\n",
    "    data['Time'][a] = getTime(data['Activity Date'][a])\r\n",
    "    data['Elapsed Time'][a] = getTimeInMinute(data['Elapsed Time'][a])\r\n",
    "    data['Moving Time'][a] = getTimeInMinute(data['Moving Time'][a])\r\n",
    "    data['Max Speed'][a] = getSpeedkmH(data['Max Speed'][a])\r\n",
    "    data['Average Speed'][a] = getSpeedkmH(data['Average Speed'][a])\r\n",
    "    \r\n",
    "data.head()"
   ],
   "outputs": [],
   "metadata": {}
  },
  {
   "cell_type": "code",
   "execution_count": null,
   "source": [
    "data.columns"
   ],
   "outputs": [],
   "metadata": {}
  },
  {
   "cell_type": "code",
   "execution_count": null,
   "source": [
    "#for col in data.columns:\r\n",
    "#    print(len(data[col].unique()))\r\n",
    "#data.head()"
   ],
   "outputs": [],
   "metadata": {}
  },
  {
   "cell_type": "code",
   "execution_count": null,
   "source": [
    "# Activity Type / Weekly Ride / Distance Graph\r\n",
    "\r\n",
    "#data['Week'] = pd.to_datetime(data['Date']) - pd.to_timedelta(7, unit='d')\r\n",
    "#df = data.groupby(['Activity Type', pd.Grouper(key='Week', freq='W-MON')])['Distance'].sum().reset_index().sort_values('Week')\r\n",
    "#print (df)"
   ],
   "outputs": [],
   "metadata": {}
  },
  {
   "cell_type": "code",
   "execution_count": null,
   "source": [
    "# Prepare Week of the Year\r\n",
    "data['Week'] = pd.to_datetime(data['Date']) - pd.to_timedelta(7, unit='d')"
   ],
   "outputs": [],
   "metadata": {}
  },
  {
   "cell_type": "code",
   "execution_count": null,
   "source": [
    "# Export clean data\r\n",
    "saveCleanData(data)"
   ],
   "outputs": [],
   "metadata": {}
  }
 ],
 "metadata": {
  "kernelspec": {
   "display_name": "Python 3",
   "language": "python",
   "name": "python3"
  },
  "language_info": {
   "codemirror_mode": {
    "name": "ipython",
    "version": 3
   },
   "file_extension": ".py",
   "mimetype": "text/x-python",
   "name": "python",
   "nbconvert_exporter": "python",
   "pygments_lexer": "ipython3",
   "version": "3.8.7"
  }
 },
 "nbformat": 4,
 "nbformat_minor": 2
}