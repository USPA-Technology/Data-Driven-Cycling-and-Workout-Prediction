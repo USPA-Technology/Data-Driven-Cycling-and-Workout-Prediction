{
 "cells": [
  {
   "cell_type": "code",
   "execution_count": null,
   "metadata": {},
   "outputs": [],
   "source": [
    "from utils import *"
   ]
  },
  {
   "cell_type": "code",
   "execution_count": null,
   "metadata": {},
   "outputs": [],
   "source": [
    "df = loadCleanData()\n",
    "df.head()"
   ]
  },
  {
   "cell_type": "code",
   "execution_count": null,
   "metadata": {},
   "outputs": [],
   "source": [
    "activityType = df[\"Activity Type\"].unique()\n",
    "activityType"
   ]
  },
  {
   "cell_type": "code",
   "execution_count": null,
   "metadata": {},
   "outputs": [],
   "source": [
    "import ipywidgets as widgets\n",
    "from ipywidgets import interact, interactive, fixed, interact_manual\n",
    "\n",
    "data = loadCleanData()\n",
    "\n",
    "drop_down=widgets.Dropdown(\n",
    "    options = activityType,\n",
    "    value='Ride',\n",
    "    description='Activity Types:',\n",
    "    disabled=False,\n",
    ")\n",
    "\n",
    "def update_barchart(activity):\n",
    "    return data[data['Activity Type'] == activity].plot(kind='scatter', x='Week', y='Distance', figsize=(14,8))\n",
    "\n",
    "interactive(update_barchart, activity=drop_down)"
   ]
  },
  {
   "cell_type": "markdown",
   "metadata": {},
   "source": [
    "## Graphs for Data visualization "
   ]
  },
  {
   "cell_type": "markdown",
   "metadata": {},
   "source": [
    "## Interactive Data visualizations"
   ]
  },
  {
   "cell_type": "code",
   "execution_count": null,
   "metadata": {},
   "outputs": [],
   "source": [
    "##\n",
    "## Interactive widget is added\n",
    "##\n",
    "import ipywidgets as widgets\n",
    "from ipywidgets import Layout\n",
    "\n",
    "style = {'description_width': 'initial'}\n",
    "\n",
    "activity = widgets.SelectMultiple(\n",
    "    options = activityType.tolist(),\n",
    "    value = ['Ride','Virtual Ride'],\n",
    "    description='Rides',\n",
    "    disabled=False,\n",
    "    style=style,\n",
    "    layout = Layout(width='50%', height='80px')\n",
    ")\n",
    "\n",
    "activity\n",
    "\n",
    "limitCase = widgets.IntSlider(\n",
    "    value=200,\n",
    "    min=100,\n",
    "    max=250,\n",
    "    step=1,\n",
    "    description='Max Number of Case:',\n",
    "    disabled=False,\n",
    "    style=style)\n",
    "\n",
    "def update_df_length(limit):\n",
    "    \n",
    "    df = loadCleanData()\n",
    "    df = df.iloc[0:limit, :]\n",
    "    \n",
    "    print(\"Number of rows in the dataset that have been successfully loaded:\"+str(len(df)))\n",
    "    \n",
    "widgets.interactive(update_df_length, limit=limitCase)"
   ]
  },
  {
   "cell_type": "code",
   "execution_count": null,
   "metadata": {},
   "outputs": [],
   "source": [
    "import ipywidgets as widgets\n",
    "from ipywidgets import interact, interactive, fixed, interact_manual\n",
    "\n",
    "data = loadCleanData()\n",
    "\n",
    "drop_down=widgets.Dropdown(\n",
    "    options = data.columns.values,\n",
    "    value='Activity Name',\n",
    "    description='Column:',\n",
    "    disabled=False,\n",
    ")\n",
    "\n",
    "def update_barchart(columns):\n",
    "    return data.groupby(columns).size().plot(kind='bar',alpha=0.5)\n",
    "\n",
    "interactive(update_barchart, columns=drop_down)"
   ]
  },
  {
   "cell_type": "code",
   "execution_count": null,
   "metadata": {},
   "outputs": [],
   "source": [
    "import numpy as np\n",
    "import matplotlib.pyplot as plt\n",
    "\n",
    "from matplotlib.legend_handler import HandlerLineCollection, HandlerTuple\n",
    "from matplotlib.lines import Line2D\n",
    "import matplotlib.collections as mcol\n",
    "\n",
    "def updateDashboard(activity, limit):\n",
    "    \n",
    "    df = loadCleanData()\n",
    "    df = df.iloc[0:limit, :]\n",
    "      \n",
    "    df_type = df.loc[df['Activity Type'].isin(np.array(activityType))]\n",
    "    \n",
    "    unique_type = df_type['Activity Type'].value_counts()\n",
    "    unique_type = unique_type.reset_index()\n",
    "       \n",
    "    fig, (ax1, ax2) = plt.subplots(1, 2, figsize=(20,10))\n",
    "    \n",
    "    ax1.bar(unique_type['index'], unique_type['Activity Type'])\n",
    "    ax1.set_title('Total number of Rides based on Activity Type')\n",
    "    \n",
    "    p1, = plt.plot(list(df_type['Max Speed']), 'b-')\n",
    "    p2, = plt.plot(list(df_type['Distance']), 'r-')\n",
    "    \n",
    "    ax2.legend((p2,p1), ['Total Distance','Max Speed'],\n",
    "               handler_map={tuple: HandlerTuple(ndivide=None)})\n",
    "    ax2.set_title('Distance per day on Activity Type')\n",
    "    \n",
    "    plt.show()\n",
    "\n",
    "widgets.interactive(updateDashboard, activity = activity, limit=limitCase)"
   ]
  }
 ],
 "metadata": {
  "kernelspec": {
   "display_name": "Python 3",
   "language": "python",
   "name": "python3"
  },
  "language_info": {
   "codemirror_mode": {
    "name": "ipython",
    "version": 3
   },
   "file_extension": ".py",
   "mimetype": "text/x-python",
   "name": "python",
   "nbconvert_exporter": "python",
   "pygments_lexer": "ipython3",
   "version": "3.8.7"
  }
 },
 "nbformat": 4,
 "nbformat_minor": 2
}
