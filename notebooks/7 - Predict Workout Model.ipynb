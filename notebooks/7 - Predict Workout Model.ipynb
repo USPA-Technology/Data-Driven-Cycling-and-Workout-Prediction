{
 "cells": [
  {
   "cell_type": "markdown",
   "source": [
    "# Predict Workout"
   ],
   "metadata": {}
  },
  {
   "cell_type": "markdown",
   "source": [
    "Predict Workout Day and distance"
   ],
   "metadata": {}
  },
  {
   "cell_type": "code",
   "execution_count": null,
   "source": [
    "#!pip install sklearn"
   ],
   "outputs": [],
   "metadata": {}
  },
  {
   "cell_type": "code",
   "execution_count": null,
   "source": [
    "from utils import *\r\n",
    "\r\n",
    "# import api_key from myconfig file\r\n",
    "from myconfig import *"
   ],
   "outputs": [],
   "metadata": {}
  },
  {
   "cell_type": "code",
   "execution_count": null,
   "source": [
    "# If you would like to start with clean data use below commented line\r\n",
    "#import numpy as np\r\n",
    "#data = loadCleanData()\r\n",
    "## Define new coloumns\r\n",
    "#data[['temp','wind','weather','day','hour','dayOfWeek','isWeekend']] = np.nan\r\n",
    "#data[['weatherDesc']] = \"\"\r\n",
    "\r\n",
    "data = loadCorrelatedData()\r\n",
    "data.head()"
   ],
   "outputs": [],
   "metadata": {}
  },
  {
   "cell_type": "markdown",
   "source": [
    "### Feature Extraction"
   ],
   "metadata": {}
  },
  {
   "cell_type": "code",
   "execution_count": null,
   "source": [
    "# Since data is limited these features doesn't make sense\r\n",
    "#data['year'] = list(map(lambda t : t.year, data['Activity Date']))\r\n",
    "#data['month'] = list(map(lambda t : t.month, data['Activity Date']))\r\n",
    "#data['minute'] = list(map(lambda t : t.minute, data['Activity Date']))"
   ],
   "outputs": [],
   "metadata": {}
  },
  {
   "cell_type": "code",
   "execution_count": null,
   "source": [
    "data['day'] = list(map(lambda t : t.day, data['Activity Date']))"
   ],
   "outputs": [],
   "metadata": {}
  },
  {
   "cell_type": "code",
   "execution_count": null,
   "source": [
    "data['hour'] = list(map(lambda t : t.hour, data['Activity Date']))"
   ],
   "outputs": [],
   "metadata": {}
  },
  {
   "cell_type": "code",
   "execution_count": null,
   "source": [
    "data['dayOfWeek'] = list(map(lambda t : t.dayofweek, data['Activity Date']))"
   ],
   "outputs": [],
   "metadata": {}
  },
  {
   "cell_type": "code",
   "execution_count": null,
   "source": [
    "data['isWeekend'] = ((pd.DatetimeIndex(data['Activity Date']).dayofweek) // 5 == 1).astype(int)"
   ],
   "outputs": [],
   "metadata": {}
  },
  {
   "cell_type": "markdown",
   "source": [
    "#### Weather Data Export"
   ],
   "metadata": {}
  },
  {
   "cell_type": "code",
   "execution_count": null,
   "source": [
    "# api_key is defined in myconfig file\r\n",
    "city = \"Istanbul\" \r\n",
    "date = \"2020-12-25\"\r\n",
    "hour = 8\r\n",
    "\r\n",
    "temp_data = get_weather(api_key,city,date,hour)\r\n",
    "print(temp_data)"
   ],
   "outputs": [],
   "metadata": {}
  },
  {
   "cell_type": "code",
   "execution_count": null,
   "source": [
    "date = \"2021-03-05\"\r\n",
    "hour = 8\r\n",
    "temp_data = get_weather(api_key,city,date,hour)\r\n",
    "print(temp_data)"
   ],
   "outputs": [],
   "metadata": {}
  },
  {
   "cell_type": "markdown",
   "source": [
    "#### Get Weather Data and Save "
   ],
   "metadata": {}
  },
  {
   "cell_type": "code",
   "execution_count": null,
   "source": [
    "## iterate for all ride date to extract weather\r\n",
    "#for index, row in data.iterrows():\r\n",
    "#    try:\r\n",
    "#        temp, wind, weatherDesc = get_weather(api_key,city,row['Activity Date'],row['hour'])\r\n",
    "#        data['temp'][index] = temp\r\n",
    "#        data['wind'][index] = wind \r\n",
    "#        data['weatherDesc'][index] = weatherDesc\r\n",
    "#        print(row['Activity Date'],temp, wind, weatherDesc)\r\n",
    "#    except Exception as e:\r\n",
    "#        print(\"Error:\", e, row['Activity Date'])"
   ],
   "outputs": [],
   "metadata": {}
  },
  {
   "cell_type": "markdown",
   "source": [
    "### Transform Activity Type and Weather Description"
   ],
   "metadata": {}
  },
  {
   "cell_type": "code",
   "execution_count": null,
   "source": [
    "# convert string data to numeric value for decision making\r\n",
    "from sklearn import preprocessing\r\n",
    "le_activity = preprocessing.LabelEncoder()\r\n",
    "\r\n",
    "le_activity.fit(data['Activity Type'])\r\n",
    "print(le_activity.classes_)\r\n",
    "\r\n",
    "vals = le_activity.transform(le_activity.classes_)\r\n",
    "vals\r\n",
    "\r\n",
    "# convert all ride type data into numeric values \r\n",
    "data['rideType'] = le_activity.transform(data['Activity Type'])\r\n",
    "data['rideType']"
   ],
   "outputs": [],
   "metadata": {}
  },
  {
   "cell_type": "code",
   "execution_count": null,
   "source": [
    "# Transform weather conditions data to numeric value for decision making\r\n",
    "le = preprocessing.LabelEncoder()\r\n",
    "le.fit(data['weatherDesc'])\r\n",
    "print(le.classes_)\r\n",
    "\r\n",
    "weather = le.transform(le.classes_)\r\n",
    "print(weather)\r\n",
    "\r\n",
    "# convert all weatherDesc data into numeric values\r\n",
    "data['weather'] = le.transform(data['weatherDesc'])\r\n",
    "data['weather']"
   ],
   "outputs": [],
   "metadata": {}
  },
  {
   "cell_type": "code",
   "execution_count": null,
   "source": [
    "## Export correlated data\r\n",
    "saveCorrelatedData(data)"
   ],
   "outputs": [],
   "metadata": {}
  },
  {
   "cell_type": "markdown",
   "source": [
    "### Prepare features"
   ],
   "metadata": {}
  },
  {
   "cell_type": "code",
   "execution_count": null,
   "source": [
    "# ride distribution per hour\r\n",
    "data.plot(kind='scatter', x='hour', y='Distance', xticks=data['hour'], figsize=(14,8))"
   ],
   "outputs": [],
   "metadata": {}
  },
  {
   "cell_type": "code",
   "execution_count": null,
   "source": [
    "# ride distribution per day\r\n",
    "data.plot(kind='scatter', x='dayOfWeek', y='Distance', xticks=data['dayOfWeek'], figsize=(14,8))"
   ],
   "outputs": [],
   "metadata": {}
  },
  {
   "cell_type": "code",
   "execution_count": null,
   "source": [
    "# ride distribution per weekdays\r\n",
    "data.plot(kind='scatter', x='isWeekend', y='Distance', xticks=data['isWeekend'], figsize=(14,8))"
   ],
   "outputs": [],
   "metadata": {}
  },
  {
   "cell_type": "code",
   "execution_count": null,
   "source": [
    "# indoor outdoor ride distribution per temp\r\n",
    "data.plot(kind='scatter', x='rideType', y='temp', xticks=data['rideType'], figsize=(14,8))"
   ],
   "outputs": [],
   "metadata": {}
  },
  {
   "cell_type": "code",
   "execution_count": null,
   "source": [
    "# Select features as list of array\r\n",
    "X = data[['hour','dayOfWeek','isWeekend','temp','wind','weather']]\r\n",
    "X = X.to_numpy()\r\n",
    "X"
   ],
   "outputs": [],
   "metadata": {}
  },
  {
   "cell_type": "markdown",
   "source": [
    "### Prepare Predict"
   ],
   "metadata": {}
  },
  {
   "cell_type": "code",
   "execution_count": null,
   "source": [
    "Y_distance = data['Distance']\r\n",
    "Y_distance = Y_distance.to_numpy()\r\n",
    "Y_distance"
   ],
   "outputs": [],
   "metadata": {}
  },
  {
   "cell_type": "code",
   "execution_count": null,
   "source": [
    "Y_rideType = data['rideType']\r\n",
    "Y_rideType = Y_rideType.to_numpy()\r\n",
    "Y_rideType"
   ],
   "outputs": [],
   "metadata": {}
  },
  {
   "cell_type": "code",
   "execution_count": null,
   "source": [
    "Y = data[['Distance','rideType']]\r\n",
    "Y = Y.to_numpy()\r\n",
    "Y"
   ],
   "outputs": [],
   "metadata": {}
  },
  {
   "cell_type": "markdown",
   "source": [
    "## Linear Regression for Distance prediction"
   ],
   "metadata": {}
  },
  {
   "cell_type": "code",
   "execution_count": null,
   "source": [
    "# example of training a final regression model\r\n",
    "from sklearn.linear_model import LinearRegression\r\n",
    "\r\n",
    "# fit final model\r\n",
    "model = LinearRegression()\r\n",
    "model.fit(X[0:160], Y_distance[0:160])\r\n",
    "\r\n",
    "# test prediction with a cold Monday weather data\r\n",
    "result_distance = model.predict([[8,0,0,10,15,0]])\r\n",
    "print(\"Result distance prediction=%s\" % result_distance)\r\n",
    "\r\n",
    "# test prediction with a sunny Sunday weather data\r\n",
    "result_distance = model.predict([[6,6,1,26,3,1]])\r\n",
    "print(\"Result distance prediction=%s\" % result_distance)"
   ],
   "outputs": [],
   "metadata": {}
  },
  {
   "cell_type": "code",
   "execution_count": null,
   "source": [
    "result = model.predict([[8,6,1,9,15,0]])\r\n",
    "result"
   ],
   "outputs": [],
   "metadata": {}
  },
  {
   "cell_type": "markdown",
   "source": [
    "## Logistic Regression for RideType Prediction"
   ],
   "metadata": {}
  },
  {
   "cell_type": "code",
   "execution_count": null,
   "source": [
    "from sklearn.linear_model import LogisticRegression\r\n",
    "clf = LogisticRegression(random_state=0).fit(X, Y_rideType)\r\n",
    "result_ridetype = clf.predict([[8,6,1,20,3,0]])\r\n",
    "print(\"Result type prediction=%s\" % result_ridetype)\r\n",
    "\r\n",
    "result_ridetype = clf.predict([[8,6,1,10,12,1]])\r\n",
    "print(\"Result type prediction=%s\" % result_ridetype)"
   ],
   "outputs": [],
   "metadata": {}
  },
  {
   "cell_type": "code",
   "execution_count": null,
   "source": [
    "#Ride for the weekend\r\n",
    "result_ridetype = clf.predict([[8,6,1,8,12,3],[9,7,1,20,17,3],[8,2,0,14,17,3]])\r\n",
    "print(\"Result type prediction=%s\" % result_ridetype)\r\n",
    "\r\n",
    "#Ride for Weekend\r\n",
    "result = model.predict([[9,6,1,10,12,3],[9,7,1,20,17,3],[8,2,0,14,17,3]])\r\n",
    "print(result)"
   ],
   "outputs": [],
   "metadata": {}
  },
  {
   "cell_type": "markdown",
   "source": [
    "### Export Model as a file"
   ],
   "metadata": {}
  },
  {
   "cell_type": "code",
   "execution_count": null,
   "source": [
    "import pickle\r\n",
    "# Save to file in the model folder\r\n",
    "distance_model_file = \"../web/model/distance_model.pkl\"\r\n",
    "with open(distance_model_file, 'wb') as file:\r\n",
    "    pickle.dump(model, file)\r\n",
    "    \r\n",
    "ridetype_model_file = \"../web/model/ridetype_model.pkl\"\r\n",
    "with open(ridetype_model_file, 'wb') as file:\r\n",
    "    pickle.dump(clf, file)"
   ],
   "outputs": [],
   "metadata": {}
  }
 ],
 "metadata": {
  "kernelspec": {
   "name": "python3",
   "display_name": "Python 3.8.7 64-bit"
  },
  "language_info": {
   "codemirror_mode": {
    "name": "ipython",
    "version": 3
   },
   "file_extension": ".py",
   "mimetype": "text/x-python",
   "name": "python",
   "nbconvert_exporter": "python",
   "pygments_lexer": "ipython3",
   "version": "3.8.7"
  },
  "interpreter": {
   "hash": "1c661ae3ab0cfc49b56ab36fd23002985fa1d04f8f645f22a28076dfc20be195"
  }
 },
 "nbformat": 4,
 "nbformat_minor": 4
}