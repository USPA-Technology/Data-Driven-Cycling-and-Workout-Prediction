{
 "cells": [
  {
   "cell_type": "code",
   "execution_count": null,
   "metadata": {},
   "outputs": [],
   "source": [
    "import pandas as pd\n",
    "\n",
    "filepath = \"data/\"\n",
    "fileOutputPath= filepath + \"output/\"\n",
    "\n",
    "activityPath = filepath + \"activities/\"\n",
    "activityOutputPath = fileOutputPath + \"activities/\"\n",
    "\n",
    "\n",
    "def loadData():\n",
    "    df = pd.read_csv(filepath+ 'activities.csv')\n",
    "    data = df[df.columns[[0,1,2,3,4,5,6,10,13,14,15,16,17,18,19,20,21,22,23,26,27,31,32,41,44,45,47,50]]]\n",
    "    data = data.astype({\"Distance\": float})\n",
    "\n",
    "    rideTypes = ['Virtual Ride', 'Ride']\n",
    "    rideData = data[data['Activity Type'].isin(rideTypes)]    \n",
    "    return rideData.dropna(subset=['Filename']).reset_index()\n"
   ]
  },
  {
   "cell_type": "code",
   "execution_count": null,
   "metadata": {},
   "outputs": [],
   "source": [
    "data = loadData()\n",
    "data.head()"
   ]
  },
  {
   "cell_type": "code",
   "execution_count": null,
   "metadata": {},
   "outputs": [],
   "source": [
    "from datetime import datetime, timedelta\n",
    "\n",
    "def getTimeInMinute(time):\n",
    "    result = time/60\n",
    "    return \"{:.1f}\".format(result)\n",
    "\n",
    "def getValue(value):\n",
    "    return \"{:.2f}\".format(value)\n",
    "\n",
    "def getSpeedkmH(speed):\n",
    "    result = speed * (3600/1000)\n",
    "    return \"{:.2f}\".format(result)\n",
    "    \n",
    "def getDate(strDateTime):\n",
    "    date_time_str = strDateTime #'2018-06-29 08:15:27.243860'\n",
    "    date_time_obj = datetime.strptime(date_time_str, '%b %d, %Y, %H:%M:%S %p')\n",
    "    return date_time_obj.strftime(\"%m-%d-%Y\")\n",
    "\n",
    "def getTime(strDateTime):\n",
    "    timezone_diff = 3\n",
    "    date_time_str = strDateTime #'2018-06-29 08:15:27.243860'\n",
    "    date_time_obj = datetime.strptime(date_time_str, '%b %d, %Y, %H:%M:%S %p')\n",
    "    date_time_obj = date_time_obj + timedelta(hours=timezone_diff)\n",
    "    return date_time_obj.strftime(\"%H:%M:%S\")"
   ]
  },
  {
   "cell_type": "code",
   "execution_count": null,
   "metadata": {},
   "outputs": [],
   "source": [
    "data['Date'] = \"\"\n",
    "data['Time'] = \"\"\n",
    "\n",
    "for a in range(len(data)):\n",
    "    data['Date'][a] = getDate(data['Activity Date'][a])\n",
    "    data['Time'][a] = getTime(data['Activity Date'][a])\n",
    "    \n",
    "data.head()"
   ]
  },
  {
   "cell_type": "code",
   "execution_count": null,
   "metadata": {},
   "outputs": [],
   "source": []
  }
 ],
 "metadata": {
  "kernelspec": {
   "display_name": "Python 3",
   "language": "python",
   "name": "python3"
  },
  "language_info": {
   "codemirror_mode": {
    "name": "ipython",
    "version": 3
   },
   "file_extension": ".py",
   "mimetype": "text/x-python",
   "name": "python",
   "nbconvert_exporter": "python",
   "pygments_lexer": "ipython3",
   "version": "3.8.7"
  }
 },
 "nbformat": 4,
 "nbformat_minor": 2
}
