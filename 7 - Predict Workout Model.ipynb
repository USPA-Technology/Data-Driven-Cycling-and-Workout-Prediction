{
 "cells": [
  {
   "cell_type": "markdown",
   "metadata": {},
   "source": [
    "# Predict Workout"
   ]
  },
  {
   "cell_type": "markdown",
   "metadata": {},
   "source": [
    "Predict Workout Day and distance"
   ]
  },
  {
   "cell_type": "code",
   "execution_count": null,
   "metadata": {},
   "outputs": [],
   "source": [
    "#!pip install sklearn"
   ]
  },
  {
   "cell_type": "code",
   "execution_count": null,
   "metadata": {},
   "outputs": [],
   "source": [
    "from utils import *\n",
    "\n",
    "# import api_key from myconfig file\n",
    "from myconfig import *"
   ]
  },
  {
   "cell_type": "code",
   "execution_count": null,
   "metadata": {},
   "outputs": [],
   "source": [
    "# If you would like to start with clean data use below commented line\n",
    "#import numpy as np\n",
    "#data = loadCleanData()\n",
    "## Define new coloumns\n",
    "#data[['temp','wind','weather','day','hour','dayOfWeek','isWeekend']] = np.nan\n",
    "#data[['weatherDesc']] = \"\"\n",
    "\n",
    "data = loadCorolatedData()\n",
    "data.head()"
   ]
  },
  {
   "cell_type": "markdown",
   "metadata": {},
   "source": [
    "### Feature Extraction"
   ]
  },
  {
   "cell_type": "code",
   "execution_count": null,
   "metadata": {},
   "outputs": [],
   "source": [
    "# Since data is limited these features doesn't make sense\n",
    "#data['year'] = list(map(lambda t : t.year, data['Activity Date']))\n",
    "#data['month'] = list(map(lambda t : t.month, data['Activity Date']))\n",
    "#data['minute'] = list(map(lambda t : t.minute, data['Activity Date']))"
   ]
  },
  {
   "cell_type": "code",
   "execution_count": null,
   "metadata": {},
   "outputs": [],
   "source": [
    "data['day'] = list(map(lambda t : t.day, data['Activity Date']))"
   ]
  },
  {
   "cell_type": "code",
   "execution_count": null,
   "metadata": {},
   "outputs": [],
   "source": [
    "data['hour'] = list(map(lambda t : t.hour, data['Activity Date']))"
   ]
  },
  {
   "cell_type": "code",
   "execution_count": null,
   "metadata": {},
   "outputs": [],
   "source": [
    "data['dayOfWeek'] = list(map(lambda t : t.dayofweek, data['Activity Date']))"
   ]
  },
  {
   "cell_type": "code",
   "execution_count": null,
   "metadata": {},
   "outputs": [],
   "source": [
    "data['isWeekend'] = ((pd.DatetimeIndex(data['Activity Date']).dayofweek) // 5 == 1).astype(int)"
   ]
  },
  {
   "cell_type": "markdown",
   "metadata": {},
   "source": [
    "#### Weather Data Export"
   ]
  },
  {
   "cell_type": "code",
   "execution_count": null,
   "metadata": {},
   "outputs": [],
   "source": [
    "# api_key is defined in myconfig file\n",
    "city = \"Istanbul\" \n",
    "date = \"2020-12-25\"\n",
    "hour = 8\n",
    "\n",
    "temp_data = get_weather(api_key,city,date,hour)\n",
    "print(temp_data)"
   ]
  },
  {
   "cell_type": "code",
   "execution_count": null,
   "metadata": {},
   "outputs": [],
   "source": [
    "date = \"2021-03-05\"\n",
    "hour = 8\n",
    "temp_data = get_weather(api_key,city,date,hour)\n",
    "print(temp_data)"
   ]
  },
  {
   "cell_type": "markdown",
   "metadata": {},
   "source": [
    "#### Get Weather Data and Save "
   ]
  },
  {
   "cell_type": "code",
   "execution_count": null,
   "metadata": {},
   "outputs": [],
   "source": [
    "## iterate for all ride date to extract weather\n",
    "#for index, row in data.iterrows():\n",
    "#    try:\n",
    "#        temp, wind, weatherDesc = get_weather(api_key,city,row['Activity Date'],row['hour'])\n",
    "#        data['temp'][index] = temp\n",
    "#        data['wind'][index] = wind \n",
    "#        data['weatherDesc'][index] = weatherDesc\n",
    "#        print(row['Activity Date'],temp, wind, weatherDesc)\n",
    "#    except Exception as e:\n",
    "#        print(\"Error:\", e, row['Activity Date'])"
   ]
  },
  {
   "cell_type": "markdown",
   "metadata": {},
   "source": [
    "### Transform Activity Type and Weather Description"
   ]
  },
  {
   "cell_type": "code",
   "execution_count": null,
   "metadata": {},
   "outputs": [],
   "source": [
    "# convert string data to numeric value for decision making\n",
    "from sklearn import preprocessing\n",
    "le_activity = preprocessing.LabelEncoder()\n",
    "\n",
    "le_activity.fit(data['Activity Type'])\n",
    "print(le_activity.classes_)\n",
    "\n",
    "vals = le_activity.transform(le_activity.classes_)\n",
    "vals\n",
    "\n",
    "# convert all ride type data into numeric values \n",
    "data['rideType'] = le_activity.transform(data['Activity Type'])\n",
    "data['rideType']"
   ]
  },
  {
   "cell_type": "code",
   "execution_count": null,
   "metadata": {},
   "outputs": [],
   "source": [
    "# Transform weather conditions data to numeric value for decision making\n",
    "le = preprocessing.LabelEncoder()\n",
    "le.fit(data['weatherDesc'])\n",
    "print(le.classes_)\n",
    "\n",
    "weather = le.transform(le.classes_)\n",
    "print(weather)\n",
    "\n",
    "# convert all weatherDesc data into numeric values\n",
    "data['weather'] = le.transform(data['weatherDesc'])\n",
    "data['weather']"
   ]
  },
  {
   "cell_type": "code",
   "execution_count": null,
   "metadata": {},
   "outputs": [],
   "source": [
    "## Export corolated data\n",
    "data.to_csv('data/activities_corolated.csv', index=False)\n",
    "print('Successfully saved!')"
   ]
  },
  {
   "cell_type": "markdown",
   "metadata": {},
   "source": [
    "### Prepare features"
   ]
  },
  {
   "cell_type": "code",
   "execution_count": null,
   "metadata": {},
   "outputs": [],
   "source": [
    "# ride distribution per hour\n",
    "data.plot(kind='scatter', x='hour', y='Distance', xticks=data['hour'], figsize=(14,8))"
   ]
  },
  {
   "cell_type": "code",
   "execution_count": null,
   "metadata": {},
   "outputs": [],
   "source": [
    "# ride distribution per day\n",
    "data.plot(kind='scatter', x='dayOfWeek', y='Distance', xticks=data['dayOfWeek'], figsize=(14,8))"
   ]
  },
  {
   "cell_type": "code",
   "execution_count": null,
   "metadata": {},
   "outputs": [],
   "source": [
    "# ride distribution per weekdays\n",
    "data.plot(kind='scatter', x='isWeekend', y='Distance', xticks=data['isWeekend'], figsize=(14,8))"
   ]
  },
  {
   "cell_type": "code",
   "execution_count": null,
   "metadata": {},
   "outputs": [],
   "source": [
    "# indoor outdoor ride distribution per temp\n",
    "data.plot(kind='scatter', x='rideType', y='temp', xticks=data['rideType'], figsize=(14,8))"
   ]
  },
  {
   "cell_type": "code",
   "execution_count": null,
   "metadata": {},
   "outputs": [],
   "source": [
    "# Select features as list of array\n",
    "X = data[['hour','dayOfWeek','isWeekend','temp','wind','weather']]\n",
    "X = X.to_numpy()\n",
    "X"
   ]
  },
  {
   "cell_type": "markdown",
   "metadata": {},
   "source": [
    "### Prepare Predict"
   ]
  },
  {
   "cell_type": "code",
   "execution_count": null,
   "metadata": {},
   "outputs": [],
   "source": [
    "Y_distance = data['Distance']\n",
    "Y_distance = Y_distance.to_numpy()\n",
    "Y_distance"
   ]
  },
  {
   "cell_type": "code",
   "execution_count": null,
   "metadata": {},
   "outputs": [],
   "source": [
    "Y_rideType = data['rideType']\n",
    "Y_rideType = Y_rideType.to_numpy()\n",
    "Y_rideType"
   ]
  },
  {
   "cell_type": "code",
   "execution_count": null,
   "metadata": {},
   "outputs": [],
   "source": [
    "Y = data[['Distance','rideType']]\n",
    "Y = Y.to_numpy()\n",
    "Y"
   ]
  },
  {
   "cell_type": "markdown",
   "metadata": {},
   "source": [
    "## Training Score"
   ]
  },
  {
   "cell_type": "code",
   "execution_count": null,
   "metadata": {},
   "outputs": [],
   "source": [
    "# example of training a final regression model\n",
    "from sklearn.linear_model import LinearRegression\n",
    "# fit final model\n",
    "model = LinearRegression()\n",
    "model.fit(X[0:160], Y_distance[0:160])\n",
    "# make a prediction\n",
    "Xnew = X[160:167]\n",
    "ynew = model.predict(Xnew)\n",
    "# show the inputs and predicted outputs\n",
    "for i in range(len(Xnew)):\n",
    "    j = 160\n",
    "    print(\"X=%s, Predicted=%s, Actual Distance=%s, Actual Ride Type=%s\" % (Xnew[i], ynew[i],Y_distance[j+i],Y_rideType[j+i]))"
   ]
  },
  {
   "cell_type": "code",
   "execution_count": null,
   "metadata": {},
   "outputs": [],
   "source": [
    "result = model.predict([[8,6,1,9,15,0]])\n",
    "result"
   ]
  },
  {
   "cell_type": "markdown",
   "metadata": {},
   "source": [
    "## LogisticRegression for RideType"
   ]
  },
  {
   "cell_type": "code",
   "execution_count": null,
   "metadata": {},
   "outputs": [],
   "source": [
    "from sklearn.linear_model import LogisticRegression\n",
    "clf = LogisticRegression(random_state=0).fit(X, Y_rideType)\n",
    "result_ridetype = clf.predict([[8,6,1,20,3,0]])\n",
    "print(\"Result type prediction=%s\" % result_ridetype)\n",
    "\n",
    "result_ridetype = clf.predict([[8,6,1,10,12,1]])\n",
    "print(\"Result type prediction=%s\" % result_ridetype)"
   ]
  },
  {
   "cell_type": "code",
   "execution_count": null,
   "metadata": {},
   "outputs": [],
   "source": [
    "#Ride for the weekend\n",
    "result_ridetype = clf.predict([[8,6,1,8,12,3],[9,7,1,20,17,3]])\n",
    "print(\"Result type prediction=%s\" % result_ridetype)\n",
    "\n",
    "#Ride for Weekend\n",
    "result = model.predict([[9,6,1,10,12,3],[9,7,1,20,17,3]])\n",
    "print(result)"
   ]
  },
  {
   "cell_type": "markdown",
   "metadata": {},
   "source": [
    "### Export Model as a file"
   ]
  },
  {
   "cell_type": "code",
   "execution_count": null,
   "metadata": {},
   "outputs": [],
   "source": [
    "import pickle\n",
    "# Save to file in the model folder\n",
    "distance_model_file = \"model/distance_model.pkl\"\n",
    "with open(distance_model_file, 'wb') as file:\n",
    "    pickle.dump(model, file)\n",
    "    \n",
    "ridetype_model_file = \"model/ridetype_model.pkl\"\n",
    "with open(ridetype_model_file, 'wb') as file:\n",
    "    pickle.dump(clf, file)"
   ]
  }
 ],
 "metadata": {
  "kernelspec": {
   "display_name": "Python 3",
   "language": "python",
   "name": "python3"
  },
  "language_info": {
   "codemirror_mode": {
    "name": "ipython",
    "version": 3
   },
   "file_extension": ".py",
   "mimetype": "text/x-python",
   "name": "python",
   "nbconvert_exporter": "python",
   "pygments_lexer": "ipython3",
   "version": "3.8.7"
  }
 },
 "nbformat": 4,
 "nbformat_minor": 4
}
