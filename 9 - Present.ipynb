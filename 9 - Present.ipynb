{
 "cells": [
  {
   "cell_type": "markdown",
   "metadata": {},
   "source": [
    "## 1. GPX Analysis"
   ]
  },
  {
   "cell_type": "markdown",
   "metadata": {},
   "source": [
    "First GPX Data Analysis for Strava\n",
    "\n",
    "<a href=\"1 - GPX Analysis.ipynb\">1 - GPX Analysis.ipynb</a>"
   ]
  },
  {
   "cell_type": "markdown",
   "metadata": {},
   "source": [
    "## 2. Visualise Some Graphs"
   ]
  },
  {
   "cell_type": "code",
   "execution_count": null,
   "metadata": {},
   "outputs": [],
   "source": [
    "from utils import *"
   ]
  },
  {
   "cell_type": "code",
   "execution_count": null,
   "metadata": {},
   "outputs": [],
   "source": [
    "#data = loadCorolatedData()\n",
    "data = loadCleanData()\n",
    "data.head()"
   ]
  },
  {
   "cell_type": "code",
   "execution_count": null,
   "metadata": {},
   "outputs": [],
   "source": [
    "data.shape"
   ]
  },
  {
   "cell_type": "code",
   "execution_count": null,
   "metadata": {},
   "outputs": [],
   "source": [
    "data.plot(kind='scatter',x='index',y='Activity Type', figsize=(14,5))"
   ]
  },
  {
   "cell_type": "code",
   "execution_count": null,
   "metadata": {},
   "outputs": [],
   "source": [
    "data.plot(kind='scatter',x='index',y='Activity Name', figsize=(14,8))"
   ]
  },
  {
   "cell_type": "code",
   "execution_count": null,
   "metadata": {},
   "outputs": [],
   "source": [
    "# Ride Distance Graph\n",
    "import seaborn as sns\n",
    "sns.set()\n",
    "sns.barplot(x=\"Activity Type\", y=\"Distance\", data=data, estimator=sum)"
   ]
  },
  {
   "cell_type": "code",
   "execution_count": null,
   "metadata": {},
   "outputs": [],
   "source": [
    "# Ride Elevation Graph\n",
    "sns.barplot(x=\"Activity Type\", y=\"Elevation Gain\", data=data, estimator=sum)"
   ]
  },
  {
   "cell_type": "code",
   "execution_count": null,
   "metadata": {},
   "outputs": [],
   "source": [
    "# Weekly Ride Graph\n",
    "df = data.groupby(pd.Grouper(key='Week', freq='W-MON'))['Distance'].sum().reset_index().sort_values('Week')\n",
    "df.plot(x='Week',y='Distance', marker='o', figsize=(14,8))"
   ]
  },
  {
   "cell_type": "code",
   "execution_count": null,
   "metadata": {},
   "outputs": [],
   "source": [
    "data.plot(kind='scatter', x='Week', y='Distance', figsize=(14,8))"
   ]
  },
  {
   "cell_type": "code",
   "execution_count": null,
   "metadata": {},
   "outputs": [],
   "source": [
    "with sns.axes_style('white'):\n",
    "    sns.jointplot(\"Distance\", \"Elevation Gain\", data, kind='hex')"
   ]
  },
  {
   "cell_type": "code",
   "execution_count": null,
   "metadata": {},
   "outputs": [],
   "source": [
    "import matplotlib.pyplot as plt\n",
    "\n",
    "# Distance Graph per day\n",
    "plt.figure(figsize=(15,8))\n",
    "distGraph = sns.lineplot(data=data, x=\"Activity Date\", y=\"Distance\", hue=\"Activity Type\")\n",
    "distGraph.set(xticklabels=[]) \n",
    "distGraph.set(xlabel=None)\n",
    "distGraph.tick_params(bottom=False)\n",
    "distGraph"
   ]
  },
  {
   "cell_type": "code",
   "execution_count": null,
   "metadata": {},
   "outputs": [],
   "source": [
    "virtualSteps = getVirtualLocations(fileOutputPath,getFilename(data['Filename'][169]))\n",
    "\n",
    "import pandas as pd \n",
    "  \n",
    "dfSteps = pd.DataFrame(virtualSteps, columns =['Latitude', 'Longtitude','Elevation','Power','Date']) \n",
    "dfSteps = dfSteps.astype({\"Power\": int})\n",
    "\n",
    "plt.figure(figsize=(15,8))\n",
    "powerPlot = sns.lineplot(data=dfSteps, x=\"Date\", y=\"Power\")\n",
    "powerPlot.set(xticklabels=[]) \n",
    "powerPlot.set(xlabel=None)\n",
    "powerPlot.tick_params(bottom=False) \n",
    "powerPlot"
   ]
  },
  {
   "cell_type": "markdown",
   "metadata": {},
   "source": [
    "## 3. Interactive Dashboard"
   ]
  },
  {
   "cell_type": "markdown",
   "metadata": {},
   "source": [
    "Interactive Dashboard\n",
    "\n",
    "<a href=\"6 - Interactive Dashboard.ipynb\">6 - Interactive Dashboard.ipynb</a>"
   ]
  }
 ],
 "metadata": {
  "kernelspec": {
   "display_name": "Python 3",
   "language": "python",
   "name": "python3"
  },
  "language_info": {
   "codemirror_mode": {
    "name": "ipython",
    "version": 3
   },
   "file_extension": ".py",
   "mimetype": "text/x-python",
   "name": "python",
   "nbconvert_exporter": "python",
   "pygments_lexer": "ipython3",
   "version": "3.8.7"
  }
 },
 "nbformat": 4,
 "nbformat_minor": 4
}
