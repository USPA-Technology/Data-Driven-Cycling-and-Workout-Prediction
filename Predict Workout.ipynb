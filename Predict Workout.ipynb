{
 "cells": [
  {
   "cell_type": "markdown",
   "metadata": {},
   "source": [
    "# Predict Workout"
   ]
  },
  {
   "cell_type": "markdown",
   "metadata": {},
   "source": [
    "### get_weather and predict_workout functions"
   ]
  },
  {
   "cell_type": "code",
   "execution_count": null,
   "metadata": {},
   "outputs": [],
   "source": [
    "from datetime import datetime \n",
    "import requests\n",
    "from myconfig import *\n",
    "from datetime import datetime, time\n",
    "import pickle\n",
    "\n",
    "def get_weather(api_key,city,date,hour):\n",
    "    \n",
    "    # Use different endpoints if it's an old weather data or future forecast\n",
    "    if type(date) == str:\n",
    "        date = datetime.fromisoformat(date)\n",
    "        \n",
    "    if date>datetime.now():\n",
    "        endpoint = f\"http://api.worldweatheronline.com/premium/v1/weather.ashx?key={api_key}&q={city}&date={date}&format=json\"\n",
    "    else:\n",
    "        endpoint = f\"http://api.worldweatheronline.com/premium/v1/past-weather.ashx?key={api_key}&q={city}&date={date}&format=json\"\n",
    "    \n",
    "    response = requests.get(endpoint)\n",
    "    api_results=response.json()\n",
    "\n",
    "    # Weather data is splitted into 3hour slices, in below code finding hour slot for weather\n",
    "    hour_slice = int(hour/3) \n",
    "\n",
    "    # Selecting weather hour slice \n",
    "    temp = api_results['data']['weather'][0]['hourly'][hour_slice]\n",
    "\n",
    "    # Return weather details\n",
    "    temp_c = temp['tempC']\n",
    "    windspeed_miles = temp['windspeedMiles']\n",
    "    weather_desc = temp['weatherDesc'][0]['value']\n",
    "\n",
    "    return int(temp_c), int(windspeed_miles), weather_desc\n",
    "\n",
    "def predict_workout(wdate,wtime):\n",
    "    wtime = time.fromisoformat(wtime)\n",
    "    temp_data = get_weather(api_key,city,wdate,wtime.hour)\n",
    "    workout_temp, workout_wind , workout_weatherdesc = temp_data\n",
    "    \n",
    "    # weather description\n",
    "    try:\n",
    "        workout_weather = int(le.transform([workout_weatherdesc])[0])\n",
    "    except:\n",
    "        workout_weather = 0\n",
    "    \n",
    "    wdate = datetime.fromisoformat(wdate)\n",
    "    workout_hour = wtime.hour\n",
    "    workout_dayofweek = wdate.isoweekday()\n",
    "    workout_isweekend = int(workout_dayofweek // 6 == 1)\n",
    "    \n",
    "    # Load ride type model from file\n",
    "    ridetype_model_file = \"model/ridetype_model.pkl\"\n",
    "    with open(ridetype_model_file, 'rb') as file:\n",
    "        ridetype_model = pickle.load(file)\n",
    "      \n",
    "    result_ridetype = ridetype_model.predict([[workout_hour,workout_dayofweek,workout_isweekend,workout_temp,workout_wind,workout_weather]])\n",
    "    print(\"Result type prediction=%s\" % result_ridetype)\n",
    "    \n",
    "    # Load distance model from file\n",
    "    distance_model_file = \"model/distance_model.pkl\"\n",
    "    with open(distance_model_file, 'rb') as file:\n",
    "        distance_model = pickle.load(file)\n",
    "    \n",
    "    result = distance_model.predict([[workout_hour,workout_dayofweek,workout_isweekend,workout_temp,workout_wind,workout_weather]])\n",
    "    return result"
   ]
  },
  {
   "cell_type": "markdown",
   "metadata": {},
   "source": [
    "### Predict Weather"
   ]
  },
  {
   "cell_type": "code",
   "execution_count": null,
   "metadata": {},
   "outputs": [],
   "source": [
    "# api_key is defined in myconfig file\n",
    "city = \"Istanbul\" \n",
    "date = \"2021-04-08\"\n",
    "hour = 18\n",
    "\n",
    "temp_data = get_weather(api_key,city,date,hour)\n",
    "print(temp_data)"
   ]
  },
  {
   "cell_type": "markdown",
   "metadata": {},
   "source": [
    "### Predict Workout"
   ]
  },
  {
   "cell_type": "code",
   "execution_count": null,
   "metadata": {},
   "outputs": [],
   "source": [
    "workout_date = '2021-04-08'\n",
    "workout_time = '18:00:00'\n",
    "predict_workout(workout_date,workout_time)"
   ]
  }
 ],
 "metadata": {
  "kernelspec": {
   "display_name": "Python 3",
   "language": "python",
   "name": "python3"
  },
  "language_info": {
   "codemirror_mode": {
    "name": "ipython",
    "version": 3
   },
   "file_extension": ".py",
   "mimetype": "text/x-python",
   "name": "python",
   "nbconvert_exporter": "python",
   "pygments_lexer": "ipython3",
   "version": "3.8.7"
  }
 },
 "nbformat": 4,
 "nbformat_minor": 4
}
