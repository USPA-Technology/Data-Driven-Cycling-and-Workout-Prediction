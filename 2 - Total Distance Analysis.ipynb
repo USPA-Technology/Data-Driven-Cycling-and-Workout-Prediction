{
 "cells": [
  {
   "cell_type": "code",
   "execution_count": null,
   "metadata": {},
   "outputs": [],
   "source": [
    "import pandas as pd\n",
    "\n",
    "filepath = \"data/\"\n",
    "\n",
    "def loadCleanData():\n",
    "    df = pd.read_csv(filepath+ 'activities_clean.csv')\n",
    "    df['Week'] = pd.to_datetime(df.Week)\n",
    "    return df"
   ]
  },
  {
   "cell_type": "code",
   "execution_count": null,
   "metadata": {},
   "outputs": [],
   "source": [
    "data = loadCleanData()\n",
    "data.head()"
   ]
  },
  {
   "cell_type": "markdown",
   "metadata": {},
   "source": [
    "## Weekly Rides"
   ]
  },
  {
   "cell_type": "code",
   "execution_count": null,
   "metadata": {},
   "outputs": [],
   "source": [
    "# Weekly Ride Graph\n",
    "df = data.groupby(pd.Grouper(key='Week', freq='W-MON'))['Distance'].sum().reset_index().sort_values('Week')\n",
    "#print (df)\n",
    "\n",
    "df.plot('Week','Distance', figsize=(14,8))\n",
    "df.plot(y=\"Distance\", kind=\"bar\", figsize=(14,8))"
   ]
  },
  {
   "cell_type": "markdown",
   "metadata": {},
   "source": [
    "## Monthly Rides"
   ]
  },
  {
   "cell_type": "code",
   "execution_count": null,
   "metadata": {},
   "outputs": [],
   "source": [
    "# Monthly Ride Graph\n",
    "df = data.groupby(pd.Grouper(key='Week', freq='M'))['Distance'].sum().reset_index().sort_values('Week')\n",
    "#print (df)\n",
    "\n",
    "df.plot('Week','Distance', figsize=(14,8))\n",
    "df.plot(y=\"Distance\", kind=\"bar\", figsize=(14,8))"
   ]
  },
  {
   "cell_type": "markdown",
   "metadata": {},
   "source": [
    "## Quarterly Rides"
   ]
  },
  {
   "cell_type": "code",
   "execution_count": null,
   "metadata": {},
   "outputs": [],
   "source": [
    "# Quarterly Ride Graph\n",
    "df = data.groupby(pd.Grouper(key='Week', freq='Q'))['Distance'].sum().reset_index().sort_values('Week')\n",
    "#print (df)\n",
    "\n",
    "df.plot('Week','Distance', figsize=(14,8))\n",
    "df.plot(y=\"Distance\", kind=\"bar\", figsize=(14,8))"
   ]
  }
 ],
 "metadata": {
  "kernelspec": {
   "display_name": "Python 3",
   "language": "python",
   "name": "python3"
  },
  "language_info": {
   "codemirror_mode": {
    "name": "ipython",
    "version": 3
   },
   "file_extension": ".py",
   "mimetype": "text/x-python",
   "name": "python",
   "nbconvert_exporter": "python",
   "pygments_lexer": "ipython3",
   "version": "3.8.7"
  }
 },
 "nbformat": 4,
 "nbformat_minor": 4
}
