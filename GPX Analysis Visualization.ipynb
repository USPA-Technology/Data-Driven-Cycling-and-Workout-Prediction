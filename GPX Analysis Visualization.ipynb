{
 "cells": [
  {
   "cell_type": "markdown",
   "metadata": {},
   "source": [
    "### Import Activities File"
   ]
  },
  {
   "cell_type": "code",
   "execution_count": null,
   "metadata": {},
   "outputs": [],
   "source": [
    "import pandas as pd\n",
    "from pathlib import Path\n",
    "from os import listdir\n",
    "from os.path import isfile, join\n",
    "import gzip\n",
    "import shutil\n",
    "from benedict import benedict as bdict\n",
    "from ipyleaflet import Map, Polyline\n",
    "\n",
    "\n",
    "filepath = \"data/\"\n",
    "fileOutputPath= filepath + \"output/\"\n",
    "\n",
    "activityPath = filepath + \"activities/\"\n",
    "activityOutputPath = fileOutputPath + \"activities/\"\n",
    "\n",
    "\n",
    "def loadData():\n",
    "    df = pd.read_csv(filepath+ 'activities.csv')\n",
    "    data = df[df.columns[[0,1,2,3,4,5,6,10,13,14,15,16,17,18,19,20,21,22,23,26,27,31,32,41,44,45,47,50]]]\n",
    "\n",
    "    rideTypes = ['Virtual Ride', 'Ride']\n",
    "    rideData = data[data['Activity Type'].isin(rideTypes)]    \n",
    "    return rideData.dropna(subset=['Filename']).reset_index()\n",
    "\n",
    "\n",
    "def extractAllGPXFiles():\n",
    "    # Create activity files Path if it's not exists\n",
    "    Path(activityOutputPath).mkdir(parents=True, exist_ok=True)\n",
    "    \n",
    "    # check for all files in activities folder\n",
    "    activityfiles = [f for f in listdir(filepath+\"activities\") if isfile(join(filepath+\"activities\", f))]\n",
    "\n",
    "    # Extract all files from gz zip files\n",
    "    for activity in activityfiles:\n",
    "        # Extract activity filename\n",
    "        filenamegz =activity\n",
    "        filename=filenamegz[:-3]\n",
    "       \n",
    "        # Extract GPX File\n",
    "        with gzip.open(activityPath + filenamegz, 'rb') as f_in:\n",
    "            with open(activityOutputPath + filename, 'wb') as f_out:\n",
    "                shutil.copyfileobj(f_in, f_out)\n",
    "    \n",
    "    print(\"done!\")\n",
    "    \n",
    "    \n",
    "def getLocations(gpx_output_path,gpx_filename):\n",
    "    # data-source can be an url, a filepath or data-string (as in this example)\n",
    "    data_source = gpx_output_path + gpx_filename\n",
    "    xmldata = bdict.from_xml(data_source)\n",
    "    trk_list = xmldata['gpx.trk.trkseg.trkpt']\n",
    "    \n",
    "    locs = [[float(t['@lat']),float(t['@lon'])] for t in trk_list]\n",
    "    \n",
    "    return locs\n",
    "\n",
    "\n",
    "def showOnMap(locations):\n",
    "\n",
    "    line = Polyline(\n",
    "        locations=locations,\n",
    "        color=\"green\" ,\n",
    "        fill=False\n",
    "    )\n",
    "\n",
    "    m = Map(center = (float((min(locations)[0]+max(locations)[0])/2), float(min(locations)[1]+max(locations)[1])/2), zoom =12)\n",
    "    m.add_layer(line)\n",
    "    return m\n",
    "\n",
    "data = loadData()\n",
    "extractAllGPXFiles()"
   ]
  },
  {
   "cell_type": "markdown",
   "metadata": {},
   "source": [
    "### Data Visualization"
   ]
  },
  {
   "cell_type": "code",
   "execution_count": null,
   "metadata": {},
   "outputs": [],
   "source": [
    "from matplotlib import pyplot as plt  "
   ]
  },
  {
   "cell_type": "code",
   "execution_count": null,
   "metadata": {},
   "outputs": [],
   "source": [
    "x = list(data['Activity Date'])\n",
    "y = list(data['Elevation Gain'])\n",
    "  \n",
    "plt.plot(x,y) \n",
    "plt.show()  "
   ]
  },
  {
   "cell_type": "code",
   "execution_count": null,
   "metadata": {},
   "outputs": [],
   "source": [
    "import seaborn as sns\n",
    "sns.set()"
   ]
  },
  {
   "cell_type": "code",
   "execution_count": null,
   "metadata": {},
   "outputs": [],
   "source": [
    "plt.plot(y)\n",
    "plt.legend('Elevation Gain', ncol=2, loc='upper left');"
   ]
  },
  {
   "cell_type": "markdown",
   "metadata": {},
   "source": [
    "### Data Visualization with Seaborn"
   ]
  },
  {
   "cell_type": "code",
   "execution_count": null,
   "metadata": {},
   "outputs": [],
   "source": [
    "with sns.axes_style('white'):\n",
    "    sns.jointplot(\"Distance\", \"Elevation Gain\", data, kind='kde');"
   ]
  },
  {
   "cell_type": "code",
   "execution_count": null,
   "metadata": {},
   "outputs": [],
   "source": [
    "with sns.axes_style('white'):\n",
    "    sns.jointplot(\"Distance\", \"Elevation Gain\", data, kind='hex')"
   ]
  },
  {
   "cell_type": "code",
   "execution_count": null,
   "metadata": {},
   "outputs": [],
   "source": [
    "sns.jointplot(\"Distance\", \"Elevation Gain\", data=data, kind='reg');"
   ]
  },
  {
   "cell_type": "code",
   "execution_count": null,
   "metadata": {},
   "outputs": [],
   "source": [
    "with sns.axes_style('white'):\n",
    "    g = sns.factorplot(\"Activity Type\", data=data, aspect=2,\n",
    "                       kind=\"count\", color='steelblue')\n",
    "    g.set_xticklabels(step=5)"
   ]
  },
  {
   "cell_type": "code",
   "execution_count": null,
   "metadata": {},
   "outputs": [],
   "source": [
    "sns.distplot(data['Distance'], kde=False);\n",
    "plt.axvline(0, color=\"k\", linestyle=\"--\");"
   ]
  },
  {
   "cell_type": "code",
   "execution_count": null,
   "metadata": {},
   "outputs": [],
   "source": [
    "g = sns.PairGrid(data, vars=['Distance', 'Max Speed', 'Elevation Gain', 'Average Watts'],\n",
    "                 hue='Activity Type', palette='RdBu_r')\n",
    "g.map(plt.scatter, alpha=0.8)\n",
    "g.add_legend();"
   ]
  },
  {
   "cell_type": "code",
   "execution_count": null,
   "metadata": {},
   "outputs": [],
   "source": []
  },
  {
   "cell_type": "code",
   "execution_count": null,
   "metadata": {},
   "outputs": [],
   "source": [
    "# Extract Date \n",
    "#data['Date'] = getDate(data['Activity Date'])"
   ]
  }
 ],
 "metadata": {
  "kernelspec": {
   "display_name": "Python 3",
   "language": "python",
   "name": "python3"
  },
  "language_info": {
   "codemirror_mode": {
    "name": "ipython",
    "version": 3
   },
   "file_extension": ".py",
   "mimetype": "text/x-python",
   "name": "python",
   "nbconvert_exporter": "python",
   "pygments_lexer": "ipython3",
   "version": "3.7.4"
  }
 },
 "nbformat": 4,
 "nbformat_minor": 2
}
