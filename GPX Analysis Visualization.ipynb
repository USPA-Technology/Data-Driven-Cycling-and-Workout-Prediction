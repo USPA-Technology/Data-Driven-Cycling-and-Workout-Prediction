{
 "cells": [
  {
   "cell_type": "markdown",
   "metadata": {},
   "source": [
    "### Import Activities File"
   ]
  },
  {
   "cell_type": "code",
   "execution_count": null,
   "metadata": {},
   "outputs": [],
   "source": [
    "import pandas as pd\n",
    "from pathlib import Path\n",
    "from os import listdir\n",
    "from os.path import isfile, join\n",
    "import gzip\n",
    "import shutil\n",
    "from benedict import benedict as bdict\n",
    "from ipyleaflet import Map, Polyline\n",
    "\n",
    "\n",
    "filepath = \"data/\"\n",
    "fileOutputPath= filepath + \"output/\"\n",
    "\n",
    "activityPath = filepath + \"activities/\"\n",
    "activityOutputPath = fileOutputPath + \"activities/\"\n",
    "\n",
    "def loadCleanData():\n",
    "    df = pd.read_csv(filepath+ 'activities_clean.csv')\n",
    "    df['Week'] = pd.to_datetime(df.Week)\n",
    "    return df\n",
    "\n",
    "def getFilename(fileextension):\n",
    "    return fileextension[:-3]\n",
    "\n",
    "def extractAllGPXFiles():\n",
    "    # Create activity files Path if it's not exists\n",
    "    Path(activityOutputPath).mkdir(parents=True, exist_ok=True)\n",
    "    \n",
    "    # check for all files in activities folder\n",
    "    activityfiles = [f for f in listdir(filepath+\"activities\") if isfile(join(filepath+\"activities\", f))]\n",
    "\n",
    "    # Extract all files from gz zip files\n",
    "    for activityzip in activityfiles:\n",
    "        # Extract activity filename\n",
    "        filename=getFilename(activityzip)\n",
    "       \n",
    "        # Extract GPX File\n",
    "        with gzip.open(activityPath + activityzip, 'rb') as f_in:\n",
    "            with open(activityOutputPath + filename, 'wb') as f_out:\n",
    "                shutil.copyfileobj(f_in, f_out)\n",
    "    \n",
    "    print(\"done!\")\n",
    "    \n",
    "    \n",
    "def getLocations(gpx_output_path,gpx_filename):\n",
    "    # data-source can be an url, a filepath or data-string (as in this example)\n",
    "    data_source = gpx_output_path + gpx_filename\n",
    "    xmldata = bdict.from_xml(data_source)\n",
    "    trk_list = xmldata['gpx.trk.trkseg.trkpt']\n",
    "    \n",
    "    locs = [[float(t['@lat']),float(t['@lon'])] for t in trk_list]\n",
    "    \n",
    "    return locs\n",
    "\n",
    "def getVirtualLocations(gpx_output_path,gpx_filename):\n",
    "    try:\n",
    "        data_source = gpx_output_path + gpx_filename\n",
    "        xmldata = bdict.from_xml(data_source)\n",
    "        trk_list = xmldata['gpx.trk.trkseg.trkpt']\n",
    "\n",
    "        locs = [[float(t['@lat']),float(t['@lon']),float(t['ele']),t['extensions']['power'],t['time']] for t in trk_list]\n",
    "    \n",
    "        return locs\n",
    "    except:\n",
    "        return null\n",
    "\n",
    "\n",
    "def showOnMap(locations):\n",
    "\n",
    "    line = Polyline(\n",
    "        locations=locations,\n",
    "        color=\"green\" ,\n",
    "        fill=False\n",
    "    )\n",
    "\n",
    "    m = Map(center = (float((min(locations)[0]+max(locations)[0])/2), float(min(locations)[1]+max(locations)[1])/2), zoom =12)\n",
    "    m.add_layer(line)\n",
    "    return m\n"
   ]
  },
  {
   "cell_type": "code",
   "execution_count": null,
   "metadata": {},
   "outputs": [],
   "source": [
    "data = loadCleanData()\n",
    "\n",
    "# Extract All gpx.gz files\n",
    "#extractAllGPXFiles()"
   ]
  },
  {
   "cell_type": "markdown",
   "metadata": {},
   "source": [
    "### General Stats"
   ]
  },
  {
   "cell_type": "code",
   "execution_count": null,
   "metadata": {},
   "outputs": [],
   "source": [
    "# Total km by outdoor ride\n",
    "outdoorRide = round(data[data['Activity Type']=='Ride']['Distance'].sum())\n",
    "print(\"Total outdoor ride: \", outdoorRide)\n",
    "\n",
    "# Total km by outdoor ride\n",
    "virtualRide = round(data[data['Activity Type']=='Virtual Ride']['Distance'].sum())\n",
    "print(\"Total virtual ride: \", virtualRide)"
   ]
  },
  {
   "cell_type": "code",
   "execution_count": null,
   "metadata": {},
   "outputs": [],
   "source": [
    "# Ride Distance Graph\n",
    "import seaborn as sns\n",
    "sns.set()\n",
    "sns.barplot(x=\"Activity Type\", y=\"Distance\", data=data, estimator=sum)"
   ]
  },
  {
   "cell_type": "code",
   "execution_count": null,
   "metadata": {},
   "outputs": [],
   "source": [
    "# Ride Elevation Graph\n",
    "sns.barplot(x=\"Activity Type\", y=\"Elevation Gain\", data=data, estimator=sum)"
   ]
  },
  {
   "cell_type": "code",
   "execution_count": null,
   "metadata": {},
   "outputs": [],
   "source": [
    "import matplotlib.pyplot as plt\n",
    "\n",
    "sns.distplot(data['Distance'], kde=False)\n",
    "plt.axvline(0, color=\"k\", linestyle=\"--\")"
   ]
  },
  {
   "cell_type": "code",
   "execution_count": null,
   "metadata": {},
   "outputs": [],
   "source": [
    "# Distance Graph per day\n",
    "distGraph = sns.lineplot(data=data, x=\"Activity Date\", y=\"Distance\", hue=\"Activity Type\")\n",
    "distGraph.set(xticklabels=[]) \n",
    "distGraph.set(xlabel=None)\n",
    "distGraph.tick_params(bottom=False) \n",
    "distGraph"
   ]
  },
  {
   "cell_type": "markdown",
   "metadata": {},
   "source": [
    "### Data Visualization"
   ]
  },
  {
   "cell_type": "code",
   "execution_count": null,
   "metadata": {},
   "outputs": [],
   "source": [
    "from matplotlib import pyplot as plt  "
   ]
  },
  {
   "cell_type": "code",
   "execution_count": null,
   "metadata": {},
   "outputs": [],
   "source": [
    "x = list(data['Activity Date'])\n",
    "y = list(data['Elevation Gain'])\n",
    "  \n",
    "plt.plot(x,y) \n",
    "plt.show()  "
   ]
  },
  {
   "cell_type": "code",
   "execution_count": null,
   "metadata": {},
   "outputs": [],
   "source": [
    "import seaborn as sns\n",
    "sns.set()"
   ]
  },
  {
   "cell_type": "code",
   "execution_count": null,
   "metadata": {},
   "outputs": [],
   "source": [
    "plt.plot(y)\n",
    "plt.legend('Elevation Gain', ncol=2, loc='upper left');"
   ]
  },
  {
   "cell_type": "markdown",
   "metadata": {},
   "source": [
    "### Data Visualization with Seaborn"
   ]
  },
  {
   "cell_type": "code",
   "execution_count": null,
   "metadata": {},
   "outputs": [],
   "source": [
    "with sns.axes_style('white'):\n",
    "    sns.jointplot(\"Distance\", \"Elevation Gain\", data, kind='kde');"
   ]
  },
  {
   "cell_type": "code",
   "execution_count": null,
   "metadata": {},
   "outputs": [],
   "source": [
    "with sns.axes_style('white'):\n",
    "    sns.jointplot(\"Distance\", \"Elevation Gain\", data, kind='hex')"
   ]
  },
  {
   "cell_type": "code",
   "execution_count": null,
   "metadata": {},
   "outputs": [],
   "source": [
    "sns.jointplot(\"Distance\", \"Elevation Gain\", data=data, kind='reg');"
   ]
  },
  {
   "cell_type": "code",
   "execution_count": null,
   "metadata": {},
   "outputs": [],
   "source": [
    "g = sns.PairGrid(data, vars=['Distance', 'Max Speed', 'Elevation Gain', 'Average Watts'],\n",
    "                 hue='Activity Type', palette='RdBu_r')\n",
    "g.map(plt.scatter, alpha=0.8)\n",
    "g.add_legend();"
   ]
  },
  {
   "cell_type": "markdown",
   "metadata": {},
   "source": [
    "### Graph Time Distribution"
   ]
  },
  {
   "cell_type": "code",
   "execution_count": null,
   "metadata": {},
   "outputs": [],
   "source": [
    "# One sample for a Power per ride\n",
    "len(getVirtualLocations(fileOutputPath,getFilename(data['Filename'][155])))"
   ]
  },
  {
   "cell_type": "code",
   "execution_count": null,
   "metadata": {},
   "outputs": [],
   "source": [
    "virtualSteps = getVirtualLocations(fileOutputPath,getFilename(data['Filename'][155]))\n",
    "\n",
    "import pandas as pd \n",
    "  \n",
    "dfSteps = pd.DataFrame(virtualSteps, columns =['Latitude', 'Longtitude','Elevation','Power','Date']) \n",
    "dfSteps = dfSteps.astype({\"Power\": int})\n",
    "\n",
    "powerPlot = sns.lineplot(data=dfSteps, x=\"Date\", y=\"Power\")\n",
    "powerPlot.set(xticklabels=[]) \n",
    "powerPlot.set(xlabel=None)\n",
    "powerPlot.tick_params(bottom=False) \n",
    "powerPlot"
   ]
  },
  {
   "cell_type": "markdown",
   "metadata": {},
   "source": [
    "### Modify Data to Generate New Features"
   ]
  },
  {
   "cell_type": "code",
   "execution_count": null,
   "metadata": {},
   "outputs": [],
   "source": [
    "data['Time/Distance'] = data['Distance.1'] / data['Elapsed Time.1']\n",
    "data.head(5)"
   ]
  },
  {
   "cell_type": "markdown",
   "metadata": {},
   "source": [
    "### Data Visualization Per Column"
   ]
  },
  {
   "cell_type": "code",
   "execution_count": null,
   "metadata": {},
   "outputs": [],
   "source": [
    "data.plot(kind='scatter',x='index',y='Activity Type')"
   ]
  },
  {
   "cell_type": "code",
   "execution_count": null,
   "metadata": {},
   "outputs": [],
   "source": [
    "data.plot(kind='scatter',x='index',y='Distance')"
   ]
  },
  {
   "cell_type": "code",
   "execution_count": null,
   "metadata": {},
   "outputs": [],
   "source": [
    "data.plot(kind='scatter',x='index',y='Elapsed Time')"
   ]
  },
  {
   "cell_type": "code",
   "execution_count": null,
   "metadata": {},
   "outputs": [],
   "source": [
    "data.plot(kind='scatter',x='index',y='Moving Time')"
   ]
  },
  {
   "cell_type": "code",
   "execution_count": null,
   "metadata": {},
   "outputs": [],
   "source": [
    "data.plot(kind='scatter',x='index',y='Max Speed')"
   ]
  },
  {
   "cell_type": "code",
   "execution_count": null,
   "metadata": {},
   "outputs": [],
   "source": [
    "data.plot(kind='scatter',x='index',y='Elevation Gain')"
   ]
  },
  {
   "cell_type": "code",
   "execution_count": null,
   "metadata": {},
   "outputs": [],
   "source": [
    "data.plot(kind='scatter',x='index',y='Calories')"
   ]
  },
  {
   "cell_type": "code",
   "execution_count": null,
   "metadata": {},
   "outputs": [],
   "source": [
    "data.plot(kind='scatter',x='index',y='Activity Name')"
   ]
  },
  {
   "cell_type": "code",
   "execution_count": null,
   "metadata": {},
   "outputs": [],
   "source": [
    "data.plot(kind='scatter',x='index',y='Average Watts')"
   ]
  },
  {
   "cell_type": "code",
   "execution_count": null,
   "metadata": {},
   "outputs": [],
   "source": [
    "data.plot(kind='scatter',x='index',y='Average Cadence')"
   ]
  }
 ],
 "metadata": {
  "kernelspec": {
   "display_name": "Python 3",
   "language": "python",
   "name": "python3"
  },
  "language_info": {
   "codemirror_mode": {
    "name": "ipython",
    "version": 3
   },
   "file_extension": ".py",
   "mimetype": "text/x-python",
   "name": "python",
   "nbconvert_exporter": "python",
   "pygments_lexer": "ipython3",
   "version": "3.8.7"
  }
 },
 "nbformat": 4,
 "nbformat_minor": 2
}
